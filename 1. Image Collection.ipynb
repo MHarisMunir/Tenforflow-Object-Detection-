{
 "cells": [
  {
   "cell_type": "markdown",
   "metadata": {},
   "source": [
    "# 1. Import Dependencies"
   ]
  },
  {
   "cell_type": "code",
   "execution_count": 1,
   "metadata": {},
   "outputs": [
    {
     "name": "stdout",
     "output_type": "stream",
     "text": [
      "Collecting opencv-python\n",
      "  Downloading opencv_python-4.5.5.64-cp36-abi3-win_amd64.whl (35.4 MB)\n",
      "     -------------------------------------- 35.4/35.4 MB 246.0 kB/s eta 0:00:00\n",
      "Collecting numpy>=1.14.5\n",
      "  Downloading numpy-1.21.6-cp37-cp37m-win_amd64.whl (14.0 MB)\n",
      "     --------------------------------------- 14.0/14.0 MB 89.7 kB/s eta 0:00:00\n",
      "Installing collected packages: numpy, opencv-python\n",
      "Successfully installed numpy-1.21.6 opencv-python-4.5.5.64\n"
     ]
    },
    {
     "name": "stderr",
     "output_type": "stream",
     "text": [
      "WARNING: Ignoring invalid distribution -tkinter-pymol (c:\\programdata\\pymol\\dlls)\n",
      "WARNING: Ignoring invalid distribution -tkinter-pymol (c:\\programdata\\pymol\\dlls)\n",
      "WARNING: Ignoring invalid distribution -tkinter-pymol (c:\\programdata\\pymol\\dlls)\n",
      "WARNING: Ignoring invalid distribution -tkinter-pymol (c:\\programdata\\pymol\\dlls)\n",
      "WARNING: Ignoring invalid distribution -tkinter-pymol (c:\\programdata\\pymol\\dlls)\n"
     ]
    }
   ],
   "source": [
    "!pip install opencv-python"
   ]
  },
  {
   "cell_type": "code",
   "execution_count": 2,
   "metadata": {},
   "outputs": [],
   "source": [
    "# Import opencv\n",
    "import cv2 \n",
    "\n",
    "# Import uuid\n",
    "import uuid\n",
    "\n",
    "# Import Operating System\n",
    "import os\n",
    "\n",
    "# Import time\n",
    "import time"
   ]
  },
  {
   "cell_type": "markdown",
   "metadata": {},
   "source": [
    "# 2. Define Images to Collect"
   ]
  },
  {
   "cell_type": "code",
   "execution_count": 3,
   "metadata": {},
   "outputs": [],
   "source": [
    "labels = ['thumbsup', 'thumbsdown', 'thankyou', 'livelong']\n",
    "number_imgs = 5"
   ]
  },
  {
   "cell_type": "markdown",
   "metadata": {},
   "source": [
    "# 3. Setup Folders "
   ]
  },
  {
   "cell_type": "code",
   "execution_count": 4,
   "metadata": {},
   "outputs": [],
   "source": [
    "IMAGES_PATH = os.path.join('Tensorflow', 'workspace', 'images', 'collectedimages')"
   ]
  },
  {
   "cell_type": "code",
   "execution_count": 5,
   "metadata": {},
   "outputs": [
    {
     "data": {
      "text/plain": [
       "'D:\\\\Haris_study\\\\PIAIC\\\\Artificial Intelligence\\\\AI_Projects\\\\Tensorflow Object Detection\\\\TFODCourse'"
      ]
     },
     "execution_count": 5,
     "metadata": {},
     "output_type": "execute_result"
    }
   ],
   "source": [
    "pwd"
   ]
  },
  {
   "cell_type": "code",
   "execution_count": 7,
   "metadata": {},
   "outputs": [
    {
     "data": {
      "text/plain": [
       "'nt'"
      ]
     },
     "execution_count": 7,
     "metadata": {},
     "output_type": "execute_result"
    }
   ],
   "source": [
    "os.name"
   ]
  },
  {
   "cell_type": "code",
   "execution_count": 6,
   "metadata": {},
   "outputs": [],
   "source": [
    "if not os.path.exists(IMAGES_PATH):\n",
    "    if os.name == 'posix':\n",
    "        !mkdir -p {IMAGES_PATH}\n",
    "    if os.name == 'nt':\n",
    "         !mkdir {IMAGES_PATH}\n",
    "for label in labels:\n",
    "    path = os.path.join(IMAGES_PATH, label)\n",
    "    if not os.path.exists(path):\n",
    "        !mkdir {path}"
   ]
  },
  {
   "cell_type": "markdown",
   "metadata": {},
   "source": [
    "# 4. Capture Images"
   ]
  },
  {
   "cell_type": "code",
   "execution_count": 9,
   "metadata": {},
   "outputs": [
    {
     "name": "stdout",
     "output_type": "stream",
     "text": [
      "Collecting images for thumbsup\n",
      "Collecting image 0\n",
      "Collecting image 1\n",
      "Collecting image 2\n",
      "Collecting image 3\n",
      "Collecting image 4\n",
      "Collecting images for thumbsdown\n",
      "Collecting image 0\n",
      "Collecting image 1\n",
      "Collecting image 2\n",
      "Collecting image 3\n",
      "Collecting image 4\n",
      "Collecting images for thankyou\n",
      "Collecting image 0\n",
      "Collecting image 1\n",
      "Collecting image 2\n",
      "Collecting image 3\n",
      "Collecting image 4\n",
      "Collecting images for livelong\n",
      "Collecting image 0\n",
      "Collecting image 1\n",
      "Collecting image 2\n",
      "Collecting image 3\n",
      "Collecting image 4\n"
     ]
    }
   ],
   "source": [
    "for label in labels:\n",
    "    cap = cv2.VideoCapture(0)  #Connects to our webcam\n",
    "    print('Collecting images for {}'.format(label))\n",
    "    time.sleep(5)\n",
    "    for imgnum in range(number_imgs):\n",
    "        print('Collecting image {}'.format(imgnum))\n",
    "        ret, frame = cap.read()\n",
    "        imgname = os.path.join(IMAGES_PATH,label,label+'.'+'{}.jpg'.format(str(uuid.uuid1())))\n",
    "        cv2.imwrite(imgname, frame)\n",
    "        cv2.imshow('frame', frame)\n",
    "        time.sleep(2)\n",
    "\n",
    "        if cv2.waitKey(1) & 0xFF == ord('q'):\n",
    "            break\n",
    "cap.release()\n",
    "cv2.destroyAllWindows()"
   ]
  },
  {
   "cell_type": "markdown",
   "metadata": {},
   "source": [
    "# 5. Image Labelling"
   ]
  },
  {
   "cell_type": "code",
   "execution_count": 10,
   "metadata": {},
   "outputs": [
    {
     "name": "stdout",
     "output_type": "stream",
     "text": [
      "Collecting pyqt5\n",
      "  Downloading PyQt5-5.15.6-cp36-abi3-win_amd64.whl (6.7 MB)\n",
      "     ---------------------------------------- 6.7/6.7 MB 40.1 kB/s eta 0:00:00\n",
      "Collecting lxml\n",
      "  Downloading lxml-4.8.0-cp37-cp37m-win_amd64.whl (3.6 MB)\n",
      "     ---------------------------------------- 3.6/3.6 MB 77.5 kB/s eta 0:00:00\n",
      "Collecting PyQt5-sip<13,>=12.8\n",
      "  Downloading PyQt5_sip-12.10.1-cp37-cp37m-win_amd64.whl (76 kB)\n",
      "     --------------------------------------- 76.9/76.9 KB 92.8 kB/s eta 0:00:00\n",
      "Collecting PyQt5-Qt5>=5.15.2\n",
      "  Downloading PyQt5_Qt5-5.15.2-py3-none-win_amd64.whl (50.1 MB)\n",
      "     -------------------------------------- 50.1/50.1 MB 100.9 kB/s eta 0:00:00\n",
      "Installing collected packages: PyQt5-Qt5, PyQt5-sip, lxml, pyqt5\n",
      "Successfully installed PyQt5-Qt5-5.15.2 PyQt5-sip-12.10.1 lxml-4.8.0 pyqt5-5.15.6\n"
     ]
    },
    {
     "name": "stderr",
     "output_type": "stream",
     "text": [
      "WARNING: Ignoring invalid distribution -tkinter-pymol (c:\\programdata\\pymol\\dlls)\n",
      "WARNING: Ignoring invalid distribution -tkinter-pymol (c:\\programdata\\pymol\\dlls)\n",
      "WARNING: Ignoring invalid distribution -tkinter-pymol (c:\\programdata\\pymol\\dlls)\n",
      "WARNING: Ignoring invalid distribution -tkinter-pymol (c:\\programdata\\pymol\\dlls)\n",
      "WARNING: Ignoring invalid distribution -tkinter-pymol (c:\\programdata\\pymol\\dlls)\n"
     ]
    }
   ],
   "source": [
    "!pip install --upgrade pyqt5 lxml"
   ]
  },
  {
   "cell_type": "code",
   "execution_count": 12,
   "metadata": {},
   "outputs": [],
   "source": [
    "LABELIMG_PATH = os.path.join('Tensorflow', 'labelimg')"
   ]
  },
  {
   "cell_type": "code",
   "execution_count": 17,
   "metadata": {},
   "outputs": [
    {
     "data": {
      "text/plain": [
       "'D:\\\\Haris_study\\\\PIAIC\\\\Artificial Intelligence\\\\AI_Projects\\\\Tensorflow Object Detection\\\\TFODCourse'"
      ]
     },
     "execution_count": 17,
     "metadata": {},
     "output_type": "execute_result"
    },
    {
     "name": "stderr",
     "output_type": "stream",
     "text": [
      "Cloning into 'Tensorflow\\labelimg'...\n",
      "Updating files:  74% (80/108)\n",
      "Updating files:  75% (81/108)\n",
      "Updating files:  76% (83/108)\n",
      "Updating files:  77% (84/108)\n",
      "Updating files:  78% (85/108)\n",
      "Updating files:  79% (86/108)\n",
      "Updating files:  80% (87/108)\n",
      "Updating files:  81% (88/108)\n",
      "Updating files:  82% (89/108)\n",
      "Updating files:  83% (90/108)\n",
      "Updating files:  84% (91/108)\n",
      "Updating files:  85% (92/108)\n",
      "Updating files:  86% (93/108)\n",
      "Updating files:  87% (94/108)\n",
      "Updating files:  88% (96/108)\n",
      "Updating files:  89% (97/108)\n",
      "Updating files:  90% (98/108)\n",
      "Updating files:  91% (99/108)\n",
      "Updating files:  92% (100/108)\n",
      "Updating files:  93% (101/108)\n",
      "Updating files:  94% (102/108)\n",
      "Updating files:  95% (103/108)\n",
      "Updating files:  96% (104/108)\n",
      "Updating files:  97% (105/108)\n",
      "Updating files:  98% (106/108)\n",
      "Updating files:  99% (107/108)\n",
      "Updating files: 100% (108/108)\n",
      "Updating files: 100% (108/108), done.\n"
     ]
    }
   ],
   "source": [
    "pwd"
   ]
  },
  {
   "cell_type": "code",
   "execution_count": 16,
   "metadata": {},
   "outputs": [
    {
     "name": "stdout",
     "output_type": "stream",
     "text": [
      "^C\n"
     ]
    }
   ],
   "source": [
    "if not os.path.exists(LABELIMG_PATH):\n",
    "    !mkdir {LABELIMG_PATH}\n",
    "    !git clone https://github.com/tzutalin/labelImg {LABELIMG_PATH}"
   ]
  },
  {
   "cell_type": "code",
   "execution_count": 18,
   "metadata": {},
   "outputs": [],
   "source": [
    "if os.name == 'posix':\n",
    "    !cd {LABELIMG_PATH} && make qt5py3\n",
    "if os.name =='nt':\n",
    "    !cd {LABELIMG_PATH} && pyrcc5 -o libs/resources.py resources.qrc"
   ]
  },
  {
   "cell_type": "code",
   "execution_count": 19,
   "metadata": {},
   "outputs": [
    {
     "name": "stdout",
     "output_type": "stream",
     "text": [
      "Image:D:\\Haris_study\\PIAIC\\Artificial Intelligence\\AI_Projects\\Tensorflow Object Detection\\TFODCourse\\Tensorflow\\workspace\\images\\collectedimages\\livelong\\livelong.ea32bea2-bfc4-11ec-913a-60f6778ad2b0.jpg -> Annotation:D:/Haris_study/PIAIC/Artificial Intelligence/AI_Projects/Tensorflow Object Detection/TFODCourse/Tensorflow/workspace/images/collectedimages/livelong/livelong.ea32bea2-bfc4-11ec-913a-60f6778ad2b0.xml\n",
      "Image:D:\\Haris_study\\PIAIC\\Artificial Intelligence\\AI_Projects\\Tensorflow Object Detection\\TFODCourse\\Tensorflow\\workspace\\images\\collectedimages\\livelong\\livelong.eb68fa12-bfc4-11ec-91f3-60f6778ad2b0.jpg -> Annotation:D:/Haris_study/PIAIC/Artificial Intelligence/AI_Projects/Tensorflow Object Detection/TFODCourse/Tensorflow/workspace/images/collectedimages/livelong/livelong.eb68fa12-bfc4-11ec-91f3-60f6778ad2b0.xml\n",
      "Image:D:\\Haris_study\\PIAIC\\Artificial Intelligence\\AI_Projects\\Tensorflow Object Detection\\TFODCourse\\Tensorflow\\workspace\\images\\collectedimages\\livelong\\livelong.ec9ccb82-bfc4-11ec-a239-60f6778ad2b0.jpg -> Annotation:D:/Haris_study/PIAIC/Artificial Intelligence/AI_Projects/Tensorflow Object Detection/TFODCourse/Tensorflow/workspace/images/collectedimages/livelong/livelong.ec9ccb82-bfc4-11ec-a239-60f6778ad2b0.xml\n",
      "Image:D:\\Haris_study\\PIAIC\\Artificial Intelligence\\AI_Projects\\Tensorflow Object Detection\\TFODCourse\\Tensorflow\\workspace\\images\\collectedimages\\livelong\\livelong.edd1c90c-bfc4-11ec-aef5-60f6778ad2b0.jpg -> Annotation:D:/Haris_study/PIAIC/Artificial Intelligence/AI_Projects/Tensorflow Object Detection/TFODCourse/Tensorflow/workspace/images/collectedimages/livelong/livelong.edd1c90c-bfc4-11ec-aef5-60f6778ad2b0.xml\n",
      "Image:D:\\Haris_study\\PIAIC\\Artificial Intelligence\\AI_Projects\\Tensorflow Object Detection\\TFODCourse\\Tensorflow\\workspace\\images\\collectedimages\\livelong\\livelong.ef062d1a-bfc4-11ec-9489-60f6778ad2b0.jpg -> Annotation:D:/Haris_study/PIAIC/Artificial Intelligence/AI_Projects/Tensorflow Object Detection/TFODCourse/Tensorflow/workspace/images/collectedimages/livelong/livelong.ef062d1a-bfc4-11ec-9489-60f6778ad2b0.xml\n",
      "Image:D:\\Haris_study\\PIAIC\\Artificial Intelligence\\AI_Projects\\Tensorflow Object Detection\\TFODCourse\\Tensorflow\\workspace\\images\\collectedimages\\thankyou\\thankyou.e3cb07e6-bfc4-11ec-9c69-60f6778ad2b0.jpg -> Annotation:D:/Haris_study/PIAIC/Artificial Intelligence/AI_Projects/Tensorflow Object Detection/TFODCourse/Tensorflow/workspace/images/collectedimages/thankyou/thankyou.e3cb07e6-bfc4-11ec-9c69-60f6778ad2b0.xml\n",
      "Image:D:\\Haris_study\\PIAIC\\Artificial Intelligence\\AI_Projects\\Tensorflow Object Detection\\TFODCourse\\Tensorflow\\workspace\\images\\collectedimages\\thankyou\\thankyou.e4ffab1a-bfc4-11ec-9988-60f6778ad2b0.jpg -> Annotation:D:/Haris_study/PIAIC/Artificial Intelligence/AI_Projects/Tensorflow Object Detection/TFODCourse/Tensorflow/workspace/images/collectedimages/thankyou/thankyou.e4ffab1a-bfc4-11ec-9988-60f6778ad2b0.xml\n",
      "Image:D:\\Haris_study\\PIAIC\\Artificial Intelligence\\AI_Projects\\Tensorflow Object Detection\\TFODCourse\\Tensorflow\\workspace\\images\\collectedimages\\thankyou\\thankyou.e15d1a8c-bfc4-11ec-a2b6-60f6778ad2b0.jpg -> Annotation:D:/Haris_study/PIAIC/Artificial Intelligence/AI_Projects/Tensorflow Object Detection/TFODCourse/Tensorflow/workspace/images/collectedimages/thankyou/thankyou.e15d1a8c-bfc4-11ec-a2b6-60f6778ad2b0.xml\n",
      "Image:D:\\Haris_study\\PIAIC\\Artificial Intelligence\\AI_Projects\\Tensorflow Object Detection\\TFODCourse\\Tensorflow\\workspace\\images\\collectedimages\\thankyou\\thankyou.e028a768-bfc4-11ec-804f-60f6778ad2b0.jpg -> Annotation:D:/Haris_study/PIAIC/Artificial Intelligence/AI_Projects/Tensorflow Object Detection/TFODCourse/Tensorflow/workspace/images/collectedimages/thankyou/thankyou.e028a768-bfc4-11ec-804f-60f6778ad2b0.xml\n",
      "Image:D:\\Haris_study\\PIAIC\\Artificial Intelligence\\AI_Projects\\Tensorflow Object Detection\\TFODCourse\\Tensorflow\\workspace\\images\\collectedimages\\thankyou\\thankyou.e2953902-bfc4-11ec-bd40-60f6778ad2b0.jpg -> Annotation:D:/Haris_study/PIAIC/Artificial Intelligence/AI_Projects/Tensorflow Object Detection/TFODCourse/Tensorflow/workspace/images/collectedimages/thankyou/thankyou.e2953902-bfc4-11ec-bd40-60f6778ad2b0.xml\n",
      "Image:D:\\Haris_study\\PIAIC\\Artificial Intelligence\\AI_Projects\\Tensorflow Object Detection\\TFODCourse\\Tensorflow\\workspace\\images\\collectedimages\\thumbsdown\\thumbsdown.d9c4986e-bfc4-11ec-9d1e-60f6778ad2b0.jpg -> Annotation:D:/Haris_study/PIAIC/Artificial Intelligence/AI_Projects/Tensorflow Object Detection/TFODCourse/Tensorflow/workspace/images/collectedimages/thumbsdown/thumbsdown.d9c4986e-bfc4-11ec-9d1e-60f6778ad2b0.xml\n",
      "Image:D:\\Haris_study\\PIAIC\\Artificial Intelligence\\AI_Projects\\Tensorflow Object Detection\\TFODCourse\\Tensorflow\\workspace\\images\\collectedimages\\thumbsdown\\thumbsdown.d75ba6a6-bfc4-11ec-943a-60f6778ad2b0.jpg -> Annotation:D:/Haris_study/PIAIC/Artificial Intelligence/AI_Projects/Tensorflow Object Detection/TFODCourse/Tensorflow/workspace/images/collectedimages/thumbsdown/thumbsdown.d75ba6a6-bfc4-11ec-943a-60f6778ad2b0.xml\n",
      "Image:D:\\Haris_study\\PIAIC\\Artificial Intelligence\\AI_Projects\\Tensorflow Object Detection\\TFODCourse\\Tensorflow\\workspace\\images\\collectedimages\\thumbsdown\\thumbsdown.d891e89c-bfc4-11ec-b66b-60f6778ad2b0.jpg -> Annotation:D:/Haris_study/PIAIC/Artificial Intelligence/AI_Projects/Tensorflow Object Detection/TFODCourse/Tensorflow/workspace/images/collectedimages/thumbsdown/thumbsdown.d891e89c-bfc4-11ec-b66b-60f6778ad2b0.xml\n",
      "Image:D:\\Haris_study\\PIAIC\\Artificial Intelligence\\AI_Projects\\Tensorflow Object Detection\\TFODCourse\\Tensorflow\\workspace\\images\\collectedimages\\thumbsdown\\thumbsdown.d62725b6-bfc4-11ec-8fef-60f6778ad2b0.jpg -> Annotation:D:/Haris_study/PIAIC/Artificial Intelligence/AI_Projects/Tensorflow Object Detection/TFODCourse/Tensorflow/workspace/images/collectedimages/thumbsdown/thumbsdown.d62725b6-bfc4-11ec-8fef-60f6778ad2b0.xml\n",
      "Image:D:\\Haris_study\\PIAIC\\Artificial Intelligence\\AI_Projects\\Tensorflow Object Detection\\TFODCourse\\Tensorflow\\workspace\\images\\collectedimages\\thumbsdown\\thumbsdown.daf9aca4-bfc4-11ec-b935-60f6778ad2b0.jpg -> Annotation:D:/Haris_study/PIAIC/Artificial Intelligence/AI_Projects/Tensorflow Object Detection/TFODCourse/Tensorflow/workspace/images/collectedimages/thumbsdown/thumbsdown.daf9aca4-bfc4-11ec-b935-60f6778ad2b0.xml\n",
      "Image:D:\\Haris_study\\PIAIC\\Artificial Intelligence\\AI_Projects\\Tensorflow Object Detection\\TFODCourse\\Tensorflow\\workspace\\images\\collectedimages\\thumbsup\\thumbsup.cc13559c-bfc4-11ec-b36a-60f6778ad2b0.jpg -> Annotation:D:/Haris_study/PIAIC/Artificial Intelligence/AI_Projects/Tensorflow Object Detection/TFODCourse/Tensorflow/workspace/images/collectedimages/thumbsup/thumbsup.cc13559c-bfc4-11ec-b36a-60f6778ad2b0.xml\n",
      "Image:D:\\Haris_study\\PIAIC\\Artificial Intelligence\\AI_Projects\\Tensorflow Object Detection\\TFODCourse\\Tensorflow\\workspace\\images\\collectedimages\\thumbsup\\thumbsup.cd49dd4a-bfc4-11ec-aafa-60f6778ad2b0.jpg -> Annotation:D:/Haris_study/PIAIC/Artificial Intelligence/AI_Projects/Tensorflow Object Detection/TFODCourse/Tensorflow/workspace/images/collectedimages/thumbsup/thumbsup.cd49dd4a-bfc4-11ec-aafa-60f6778ad2b0.xml\n",
      "Image:D:\\Haris_study\\PIAIC\\Artificial Intelligence\\AI_Projects\\Tensorflow Object Detection\\TFODCourse\\Tensorflow\\workspace\\images\\collectedimages\\thumbsup\\thumbsup.ce8104e8-bfc4-11ec-b4b6-60f6778ad2b0.jpg -> Annotation:D:/Haris_study/PIAIC/Artificial Intelligence/AI_Projects/Tensorflow Object Detection/TFODCourse/Tensorflow/workspace/images/collectedimages/thumbsup/thumbsup.ce8104e8-bfc4-11ec-b4b6-60f6778ad2b0.xml\n",
      "Image:D:\\Haris_study\\PIAIC\\Artificial Intelligence\\AI_Projects\\Tensorflow Object Detection\\TFODCourse\\Tensorflow\\workspace\\images\\collectedimages\\thumbsup\\thumbsup.cfb6b264-bfc4-11ec-86ab-60f6778ad2b0.jpg -> Annotation:D:/Haris_study/PIAIC/Artificial Intelligence/AI_Projects/Tensorflow Object Detection/TFODCourse/Tensorflow/workspace/images/collectedimages/thumbsup/thumbsup.cfb6b264-bfc4-11ec-86ab-60f6778ad2b0.xml\n",
      "Image:D:\\Haris_study\\PIAIC\\Artificial Intelligence\\AI_Projects\\Tensorflow Object Detection\\TFODCourse\\Tensorflow\\workspace\\images\\collectedimages\\thumbsup\\thumbsup.d0e96ed8-bfc4-11ec-b5f5-60f6778ad2b0.jpg -> Annotation:D:/Haris_study/PIAIC/Artificial Intelligence/AI_Projects/Tensorflow Object Detection/TFODCourse/Tensorflow/workspace/images/collectedimages/thumbsup/thumbsup.d0e96ed8-bfc4-11ec-b5f5-60f6778ad2b0.xml\n"
     ]
    }
   ],
   "source": [
    "!cd {LABELIMG_PATH} && python labelImg.py"
   ]
  },
  {
   "cell_type": "markdown",
   "metadata": {},
   "source": [
    "# 6. Move them into a Training and Testing Partition"
   ]
  },
  {
   "cell_type": "markdown",
   "metadata": {},
   "source": [
    "# OPTIONAL - 7. Compress them for Colab Training"
   ]
  },
  {
   "cell_type": "code",
   "execution_count": 20,
   "metadata": {},
   "outputs": [],
   "source": [
    "TRAIN_PATH = os.path.join('Tensorflow', 'workspace', 'images', 'train')\n",
    "TEST_PATH = os.path.join('Tensorflow', 'workspace', 'images', 'test')\n",
    "ARCHIVE_PATH = os.path.join('Tensorflow', 'workspace', 'images', 'archive.tar.gz')"
   ]
  },
  {
   "cell_type": "code",
   "execution_count": 21,
   "metadata": {},
   "outputs": [],
   "source": [
    "!tar -czf {ARCHIVE_PATH} {TRAIN_PATH} {TEST_PATH}"
   ]
  },
  {
   "cell_type": "code",
   "execution_count": null,
   "metadata": {},
   "outputs": [],
   "source": []
  }
 ],
 "metadata": {
  "kernelspec": {
   "display_name": "tfod",
   "language": "python",
   "name": "tfod"
  },
  "language_info": {
   "codemirror_mode": {
    "name": "ipython",
    "version": 3
   },
   "file_extension": ".py",
   "mimetype": "text/x-python",
   "name": "python",
   "nbconvert_exporter": "python",
   "pygments_lexer": "ipython3",
   "version": "3.7.9"
  }
 },
 "nbformat": 4,
 "nbformat_minor": 2
}
