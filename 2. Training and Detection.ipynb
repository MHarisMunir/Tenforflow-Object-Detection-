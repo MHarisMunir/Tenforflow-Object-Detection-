{
 "cells": [
  {
   "cell_type": "markdown",
   "metadata": {
    "id": "QUANWN3rpfC9"
   },
   "source": [
    "# 0. Setup Paths"
   ]
  },
  {
   "cell_type": "code",
   "execution_count": 1,
   "metadata": {
    "id": "146BB11JpfDA",
    "scrolled": true
   },
   "outputs": [],
   "source": [
    "import os"
   ]
  },
  {
   "cell_type": "code",
   "execution_count": 2,
   "metadata": {
    "id": "42hJEdo_pfDB",
    "scrolled": true
   },
   "outputs": [],
   "source": [
    "CUSTOM_MODEL_NAME = 'my_ssd_mobnet' \n",
    "PRETRAINED_MODEL_NAME = 'ssd_mobilenet_v2_fpnlite_320x320_coco17_tpu-8'\n",
    "PRETRAINED_MODEL_URL = 'http://download.tensorflow.org/models/object_detection/tf2/20200711/ssd_mobilenet_v2_fpnlite_320x320_coco17_tpu-8.tar.gz'\n",
    "TF_RECORD_SCRIPT_NAME = 'generate_tfrecord.py'\n",
    "LABEL_MAP_NAME = 'label_map.pbtxt'"
   ]
  },
  {
   "cell_type": "code",
   "execution_count": 3,
   "metadata": {
    "id": "hbPhYVy_pfDB",
    "scrolled": true
   },
   "outputs": [],
   "source": [
    "paths = {\n",
    "    'WORKSPACE_PATH': os.path.join('Tensorflow', 'workspace'),\n",
    "    'SCRIPTS_PATH': os.path.join('Tensorflow','scripts'),\n",
    "    'APIMODEL_PATH': os.path.join('Tensorflow','models'),\n",
    "    'ANNOTATION_PATH': os.path.join('Tensorflow', 'workspace','annotations'),\n",
    "    'IMAGE_PATH': os.path.join('Tensorflow', 'workspace','images'),\n",
    "    'MODEL_PATH': os.path.join('Tensorflow', 'workspace','models'),\n",
    "    'PRETRAINED_MODEL_PATH': os.path.join('Tensorflow', 'workspace','pre-trained-models'),\n",
    "    'CHECKPOINT_PATH': os.path.join('Tensorflow', 'workspace','models',CUSTOM_MODEL_NAME), \n",
    "    'OUTPUT_PATH': os.path.join('Tensorflow', 'workspace','models',CUSTOM_MODEL_NAME, 'export'), \n",
    "    'TFJS_PATH':os.path.join('Tensorflow', 'workspace','models',CUSTOM_MODEL_NAME, 'tfjsexport'), \n",
    "    'TFLITE_PATH':os.path.join('Tensorflow', 'workspace','models',CUSTOM_MODEL_NAME, 'tfliteexport'), \n",
    "    'PROTOC_PATH':os.path.join('Tensorflow','protoc')\n",
    " }"
   ]
  },
  {
   "cell_type": "code",
   "execution_count": 4,
   "metadata": {
    "id": "LwhWZMI0pfDC",
    "scrolled": true
   },
   "outputs": [],
   "source": [
    "files = {\n",
    "    'PIPELINE_CONFIG':os.path.join('Tensorflow', 'workspace','models', CUSTOM_MODEL_NAME, 'pipeline.config'),\n",
    "    'TF_RECORD_SCRIPT': os.path.join(paths['SCRIPTS_PATH'], TF_RECORD_SCRIPT_NAME), \n",
    "    'LABELMAP': os.path.join(paths['ANNOTATION_PATH'], LABEL_MAP_NAME)\n",
    "}"
   ]
  },
  {
   "cell_type": "code",
   "execution_count": null,
   "metadata": {
    "id": "HR-TfDGrpfDC",
    "scrolled": true
   },
   "outputs": [],
   "source": [
    "for path in paths.values():\n",
    "    if not os.path.exists(path):\n",
    "        if os.name == 'posix':\n",
    "            !mkdir -p {path}\n",
    "        if os.name == 'nt':\n",
    "            !mkdir {path}"
   ]
  },
  {
   "cell_type": "markdown",
   "metadata": {
    "id": "OLU-rs_ipfDE"
   },
   "source": [
    "# 1. Download TF Models Pretrained Models from Tensorflow Model Zoo and Install TFOD"
   ]
  },
  {
   "cell_type": "code",
   "execution_count": null,
   "metadata": {
    "scrolled": true
   },
   "outputs": [],
   "source": [
    "# https://www.tensorflow.org/install/source_windows"
   ]
  },
  {
   "cell_type": "code",
   "execution_count": null,
   "metadata": {
    "id": "K-Cmz2edpfDE",
    "scrolled": false
   },
   "outputs": [],
   "source": [
    "if os.name=='nt':\n",
    "    !pip install wget\n",
    "    import wget"
   ]
  },
  {
   "cell_type": "code",
   "execution_count": null,
   "metadata": {
    "id": "iA1DIq5OpfDE",
    "scrolled": true
   },
   "outputs": [],
   "source": [
    "if not os.path.exists(os.path.join(paths['APIMODEL_PATH'], 'research', 'object_detection')):\n",
    "    !git clone https://github.com/tensorflow/models {paths['APIMODEL_PATH']}"
   ]
  },
  {
   "cell_type": "code",
   "execution_count": null,
   "metadata": {
    "id": "rJjMHbnDs3Tv",
    "scrolled": true
   },
   "outputs": [],
   "source": [
    "# Install Tensorflow Object Detection \n",
    "if os.name=='posix':  \n",
    "    !apt-get install protobuf-compiler\n",
    "    !cd Tensorflow/models/research && protoc object_detection/protos/*.proto --python_out=. && cp object_detection/packages/tf2/setup.py . && python -m pip install . \n",
    "    \n",
    "if os.name=='nt':\n",
    "    url=\"https://github.com/protocolbuffers/protobuf/releases/download/v3.15.6/protoc-3.15.6-win64.zip\"\n",
    "    wget.download(url)\n",
    "    !move protoc-3.15.6-win64.zip {paths['PROTOC_PATH']}\n",
    "    !cd {paths['PROTOC_PATH']} && tar -xf protoc-3.15.6-win64.zip\n",
    "    os.environ['PATH'] += os.pathsep + os.path.abspath(os.path.join(paths['PROTOC_PATH'], 'bin'))   \n",
    "    !cd Tensorflow/models/research && protoc object_detection/protos/*.proto --python_out=. && copy object_detection\\\\packages\\\\tf2\\\\setup.py setup.py && python setup.py build && python setup.py install\n",
    "    !cd Tensorflow/models/research/slim && pip install -e . "
   ]
  },
  {
   "cell_type": "code",
   "execution_count": null,
   "metadata": {
    "scrolled": false
   },
   "outputs": [],
   "source": [
    "VERIFICATION_SCRIPT = os.path.join(paths['APIMODEL_PATH'], 'research', 'object_detection', 'builders', 'model_builder_tf2_test.py')\n",
    "# Verify Installation\n",
    "!python {VERIFICATION_SCRIPT}"
   ]
  },
  {
   "cell_type": "code",
   "execution_count": null,
   "metadata": {
    "scrolled": true
   },
   "outputs": [],
   "source": [
    "!pip install pyyaml --upgrade"
   ]
  },
  {
   "cell_type": "code",
   "execution_count": null,
   "metadata": {
    "scrolled": true
   },
   "outputs": [],
   "source": [
    "!pip install tensorflow --upgrade"
   ]
  },
  {
   "cell_type": "code",
   "execution_count": null,
   "metadata": {
    "scrolled": true
   },
   "outputs": [],
   "source": [
    "!pip uninstall protobuf matplotlib -y\n",
    "!pip install protobuf matplotlib==3.2"
   ]
  },
  {
   "cell_type": "code",
   "execution_count": null,
   "metadata": {
    "scrolled": true
   },
   "outputs": [],
   "source": [
    "import object_detection"
   ]
  },
  {
   "cell_type": "code",
   "execution_count": null,
   "metadata": {
    "scrolled": false
   },
   "outputs": [],
   "source": [
    "!pip list"
   ]
  },
  {
   "cell_type": "code",
   "execution_count": null,
   "metadata": {
    "colab": {
     "base_uri": "https://localhost:8080/"
    },
    "id": "csofht2npfDE",
    "outputId": "ff5471b2-bed2-43f2-959c-327a706527b6",
    "scrolled": true
   },
   "outputs": [],
   "source": [
    "if os.name =='posix':\n",
    "    !wget {PRETRAINED_MODEL_URL}\n",
    "    !mv {PRETRAINED_MODEL_NAME+'.tar.gz'} {paths['PRETRAINED_MODEL_PATH']}\n",
    "    !cd {paths['PRETRAINED_MODEL_PATH']} && tar -zxvf {PRETRAINED_MODEL_NAME+'.tar.gz'}\n",
    "if os.name == 'nt':\n",
    "    wget.download(PRETRAINED_MODEL_URL)\n",
    "    !move {PRETRAINED_MODEL_NAME+'.tar.gz'} {paths['PRETRAINED_MODEL_PATH']}\n",
    "    !cd {paths['PRETRAINED_MODEL_PATH']} && tar -zxvf {PRETRAINED_MODEL_NAME+'.tar.gz'}"
   ]
  },
  {
   "cell_type": "markdown",
   "metadata": {
    "id": "M5KJTnkfpfDC"
   },
   "source": [
    "# 2. Create Label Map"
   ]
  },
  {
   "cell_type": "code",
   "execution_count": null,
   "metadata": {
    "id": "p1BVDWo7pfDC",
    "scrolled": true
   },
   "outputs": [],
   "source": [
    "labels = [{'name':'ThumbsUp', 'id':1}, {'name':'ThumbsDown', 'id':2}, {'name':'ThankYou', 'id':3}, {'name':'LiveLong', 'id':4}]\n",
    "\n",
    "with open(files['LABELMAP'], 'w') as f:\n",
    "    for label in labels:\n",
    "        f.write('item { \\n')\n",
    "        f.write('\\tname:\\'{}\\'\\n'.format(label['name']))\n",
    "        f.write('\\tid:{}\\n'.format(label['id']))\n",
    "        f.write('}\\n')"
   ]
  },
  {
   "cell_type": "markdown",
   "metadata": {
    "id": "C88zyVELpfDC"
   },
   "source": [
    "# 3. Create TF records"
   ]
  },
  {
   "cell_type": "code",
   "execution_count": null,
   "metadata": {
    "colab": {
     "base_uri": "https://localhost:8080/"
    },
    "id": "kvf5WccwrFGq",
    "outputId": "49902aeb-0bd7-4298-e1a0-5b4a64eb2064",
    "scrolled": true
   },
   "outputs": [],
   "source": [
    "# OPTIONAL IF RUNNING ON COLAB\n",
    "ARCHIVE_FILES = os.path.join(paths['IMAGE_PATH'], 'archive.tar.gz')\n",
    "if os.path.exists(ARCHIVE_FILES):\n",
    "  !tar -zxvf {ARCHIVE_FILES}"
   ]
  },
  {
   "cell_type": "code",
   "execution_count": null,
   "metadata": {
    "colab": {
     "base_uri": "https://localhost:8080/"
    },
    "id": "KWpb_BVUpfDD",
    "outputId": "56ce2a3f-3933-4ee6-8a9d-d5ec65f7d73c",
    "scrolled": true
   },
   "outputs": [],
   "source": [
    "if not os.path.exists(files['TF_RECORD_SCRIPT']):\n",
    "    !git clone https://github.com/nicknochnack/GenerateTFRecord {paths['SCRIPTS_PATH']}"
   ]
  },
  {
   "cell_type": "code",
   "execution_count": null,
   "metadata": {
    "colab": {
     "base_uri": "https://localhost:8080/"
    },
    "id": "UPFToGZqpfDD",
    "outputId": "0ebb456f-aadc-4a1f-96e6-fbfec1923e1c",
    "scrolled": true
   },
   "outputs": [],
   "source": [
    "!python {files['TF_RECORD_SCRIPT']} -x {os.path.join(paths['IMAGE_PATH'], 'train')} -l {files['LABELMAP']} -o {os.path.join(paths['ANNOTATION_PATH'], 'train.record')} \n",
    "!python {files['TF_RECORD_SCRIPT']} -x {os.path.join(paths['IMAGE_PATH'], 'test')} -l {files['LABELMAP']} -o {os.path.join(paths['ANNOTATION_PATH'], 'test.record')} "
   ]
  },
  {
   "cell_type": "code",
   "execution_count": null,
   "metadata": {
    "scrolled": true
   },
   "outputs": [],
   "source": [
    "!pip install pandas"
   ]
  },
  {
   "cell_type": "markdown",
   "metadata": {
    "id": "qT4QU7pLpfDE"
   },
   "source": [
    "# 4. Copy Model Config to Training Folder"
   ]
  },
  {
   "cell_type": "code",
   "execution_count": null,
   "metadata": {
    "id": "cOjuTFbwpfDF",
    "scrolled": true
   },
   "outputs": [],
   "source": [
    "if os.name =='posix':\n",
    "    !cp {os.path.join(paths['PRETRAINED_MODEL_PATH'], PRETRAINED_MODEL_NAME, 'pipeline.config')} {os.path.join(paths['CHECKPOINT_PATH'])}\n",
    "if os.name == 'nt':\n",
    "    !copy {os.path.join(paths['PRETRAINED_MODEL_PATH'], PRETRAINED_MODEL_NAME, 'pipeline.config')} {os.path.join(paths['CHECKPOINT_PATH'])}"
   ]
  },
  {
   "cell_type": "markdown",
   "metadata": {
    "id": "Ga8gpNslpfDF"
   },
   "source": [
    "# 5. Update Config For Transfer Learning"
   ]
  },
  {
   "cell_type": "code",
   "execution_count": 12,
   "metadata": {
    "id": "Z9hRrO_ppfDF",
    "scrolled": true
   },
   "outputs": [],
   "source": [
    "import tensorflow as tf\n",
    "from object_detection.utils import config_util\n",
    "from object_detection.protos import pipeline_pb2\n",
    "from google.protobuf import text_format"
   ]
  },
  {
   "cell_type": "code",
   "execution_count": 13,
   "metadata": {
    "id": "c2A0mn4ipfDF",
    "scrolled": true
   },
   "outputs": [],
   "source": [
    "config = config_util.get_configs_from_pipeline_file(files['PIPELINE_CONFIG'])"
   ]
  },
  {
   "cell_type": "code",
   "execution_count": 14,
   "metadata": {
    "colab": {
     "base_uri": "https://localhost:8080/"
    },
    "id": "uQA13-afpfDF",
    "outputId": "907496a4-a39d-4b13-8c2c-e5978ecb1f10",
    "scrolled": true
   },
   "outputs": [
    {
     "data": {
      "text/plain": [
       "{'model': ssd {\n",
       "   num_classes: 90\n",
       "   image_resizer {\n",
       "     fixed_shape_resizer {\n",
       "       height: 320\n",
       "       width: 320\n",
       "     }\n",
       "   }\n",
       "   feature_extractor {\n",
       "     type: \"ssd_mobilenet_v2_fpn_keras\"\n",
       "     depth_multiplier: 1.0\n",
       "     min_depth: 16\n",
       "     conv_hyperparams {\n",
       "       regularizer {\n",
       "         l2_regularizer {\n",
       "           weight: 3.9999998989515007e-05\n",
       "         }\n",
       "       }\n",
       "       initializer {\n",
       "         random_normal_initializer {\n",
       "           mean: 0.0\n",
       "           stddev: 0.009999999776482582\n",
       "         }\n",
       "       }\n",
       "       activation: RELU_6\n",
       "       batch_norm {\n",
       "         decay: 0.996999979019165\n",
       "         scale: true\n",
       "         epsilon: 0.0010000000474974513\n",
       "       }\n",
       "     }\n",
       "     use_depthwise: true\n",
       "     override_base_feature_extractor_hyperparams: true\n",
       "     fpn {\n",
       "       min_level: 3\n",
       "       max_level: 7\n",
       "       additional_layer_depth: 128\n",
       "     }\n",
       "   }\n",
       "   box_coder {\n",
       "     faster_rcnn_box_coder {\n",
       "       y_scale: 10.0\n",
       "       x_scale: 10.0\n",
       "       height_scale: 5.0\n",
       "       width_scale: 5.0\n",
       "     }\n",
       "   }\n",
       "   matcher {\n",
       "     argmax_matcher {\n",
       "       matched_threshold: 0.5\n",
       "       unmatched_threshold: 0.5\n",
       "       ignore_thresholds: false\n",
       "       negatives_lower_than_unmatched: true\n",
       "       force_match_for_each_row: true\n",
       "       use_matmul_gather: true\n",
       "     }\n",
       "   }\n",
       "   similarity_calculator {\n",
       "     iou_similarity {\n",
       "     }\n",
       "   }\n",
       "   box_predictor {\n",
       "     weight_shared_convolutional_box_predictor {\n",
       "       conv_hyperparams {\n",
       "         regularizer {\n",
       "           l2_regularizer {\n",
       "             weight: 3.9999998989515007e-05\n",
       "           }\n",
       "         }\n",
       "         initializer {\n",
       "           random_normal_initializer {\n",
       "             mean: 0.0\n",
       "             stddev: 0.009999999776482582\n",
       "           }\n",
       "         }\n",
       "         activation: RELU_6\n",
       "         batch_norm {\n",
       "           decay: 0.996999979019165\n",
       "           scale: true\n",
       "           epsilon: 0.0010000000474974513\n",
       "         }\n",
       "       }\n",
       "       depth: 128\n",
       "       num_layers_before_predictor: 4\n",
       "       kernel_size: 3\n",
       "       class_prediction_bias_init: -4.599999904632568\n",
       "       share_prediction_tower: true\n",
       "       use_depthwise: true\n",
       "     }\n",
       "   }\n",
       "   anchor_generator {\n",
       "     multiscale_anchor_generator {\n",
       "       min_level: 3\n",
       "       max_level: 7\n",
       "       anchor_scale: 4.0\n",
       "       aspect_ratios: 1.0\n",
       "       aspect_ratios: 2.0\n",
       "       aspect_ratios: 0.5\n",
       "       scales_per_octave: 2\n",
       "     }\n",
       "   }\n",
       "   post_processing {\n",
       "     batch_non_max_suppression {\n",
       "       score_threshold: 9.99999993922529e-09\n",
       "       iou_threshold: 0.6000000238418579\n",
       "       max_detections_per_class: 100\n",
       "       max_total_detections: 100\n",
       "       use_static_shapes: false\n",
       "     }\n",
       "     score_converter: SIGMOID\n",
       "   }\n",
       "   normalize_loss_by_num_matches: true\n",
       "   loss {\n",
       "     localization_loss {\n",
       "       weighted_smooth_l1 {\n",
       "       }\n",
       "     }\n",
       "     classification_loss {\n",
       "       weighted_sigmoid_focal {\n",
       "         gamma: 2.0\n",
       "         alpha: 0.25\n",
       "       }\n",
       "     }\n",
       "     classification_weight: 1.0\n",
       "     localization_weight: 1.0\n",
       "   }\n",
       "   encode_background_as_zeros: true\n",
       "   normalize_loc_loss_by_codesize: true\n",
       "   inplace_batchnorm_update: true\n",
       "   freeze_batchnorm: false\n",
       " },\n",
       " 'train_config': batch_size: 128\n",
       " data_augmentation_options {\n",
       "   random_horizontal_flip {\n",
       "   }\n",
       " }\n",
       " data_augmentation_options {\n",
       "   random_crop_image {\n",
       "     min_object_covered: 0.0\n",
       "     min_aspect_ratio: 0.75\n",
       "     max_aspect_ratio: 3.0\n",
       "     min_area: 0.75\n",
       "     max_area: 1.0\n",
       "     overlap_thresh: 0.0\n",
       "   }\n",
       " }\n",
       " sync_replicas: true\n",
       " optimizer {\n",
       "   momentum_optimizer {\n",
       "     learning_rate {\n",
       "       cosine_decay_learning_rate {\n",
       "         learning_rate_base: 0.07999999821186066\n",
       "         total_steps: 50000\n",
       "         warmup_learning_rate: 0.026666000485420227\n",
       "         warmup_steps: 1000\n",
       "       }\n",
       "     }\n",
       "     momentum_optimizer_value: 0.8999999761581421\n",
       "   }\n",
       "   use_moving_average: false\n",
       " }\n",
       " fine_tune_checkpoint: \"PATH_TO_BE_CONFIGURED\"\n",
       " num_steps: 50000\n",
       " startup_delay_steps: 0.0\n",
       " replicas_to_aggregate: 8\n",
       " max_number_of_boxes: 100\n",
       " unpad_groundtruth_tensors: false\n",
       " fine_tune_checkpoint_type: \"classification\"\n",
       " fine_tune_checkpoint_version: V2,\n",
       " 'train_input_config': label_map_path: \"PATH_TO_BE_CONFIGURED\"\n",
       " tf_record_input_reader {\n",
       "   input_path: \"PATH_TO_BE_CONFIGURED\"\n",
       " },\n",
       " 'eval_config': metrics_set: \"coco_detection_metrics\"\n",
       " use_moving_averages: false,\n",
       " 'eval_input_configs': [label_map_path: \"PATH_TO_BE_CONFIGURED\"\n",
       " shuffle: false\n",
       " num_epochs: 1\n",
       " tf_record_input_reader {\n",
       "   input_path: \"PATH_TO_BE_CONFIGURED\"\n",
       " }\n",
       " ],\n",
       " 'eval_input_config': label_map_path: \"PATH_TO_BE_CONFIGURED\"\n",
       " shuffle: false\n",
       " num_epochs: 1\n",
       " tf_record_input_reader {\n",
       "   input_path: \"PATH_TO_BE_CONFIGURED\"\n",
       " }}"
      ]
     },
     "execution_count": 14,
     "metadata": {},
     "output_type": "execute_result"
    }
   ],
   "source": [
    "config"
   ]
  },
  {
   "cell_type": "code",
   "execution_count": 15,
   "metadata": {
    "id": "9vK5lotDpfDF",
    "scrolled": true
   },
   "outputs": [],
   "source": [
    "pipeline_config = pipeline_pb2.TrainEvalPipelineConfig()\n",
    "with tf.io.gfile.GFile(files['PIPELINE_CONFIG'], \"r\") as f:                                                                                                                                                                                                                     \n",
    "    proto_str = f.read()                                                                                                                                                                                                                                          \n",
    "    text_format.Merge(proto_str, pipeline_config)  "
   ]
  },
  {
   "cell_type": "code",
   "execution_count": 16,
   "metadata": {
    "id": "rP43Ph0JpfDG",
    "scrolled": true
   },
   "outputs": [],
   "source": [
    "pipeline_config.model.ssd.num_classes = len(labels)\n",
    "pipeline_config.train_config.batch_size = 4\n",
    "pipeline_config.train_config.fine_tune_checkpoint = os.path.join(paths['PRETRAINED_MODEL_PATH'], PRETRAINED_MODEL_NAME, 'checkpoint', 'ckpt-0')\n",
    "pipeline_config.train_config.fine_tune_checkpoint_type = \"detection\"\n",
    "pipeline_config.train_input_reader.label_map_path= files['LABELMAP']\n",
    "pipeline_config.train_input_reader.tf_record_input_reader.input_path[:] = [os.path.join(paths['ANNOTATION_PATH'], 'train.record')]\n",
    "pipeline_config.eval_input_reader[0].label_map_path = files['LABELMAP']\n",
    "pipeline_config.eval_input_reader[0].tf_record_input_reader.input_path[:] = [os.path.join(paths['ANNOTATION_PATH'], 'test.record')]"
   ]
  },
  {
   "cell_type": "code",
   "execution_count": 17,
   "metadata": {
    "id": "oJvfgwWqpfDG",
    "scrolled": true
   },
   "outputs": [],
   "source": [
    "config_text = text_format.MessageToString(pipeline_config)                                                                                                                                                                                                        \n",
    "with tf.io.gfile.GFile(files['PIPELINE_CONFIG'], \"wb\") as f:                                                                                                                                                                                                                     \n",
    "    f.write(config_text)   "
   ]
  },
  {
   "cell_type": "markdown",
   "metadata": {
    "id": "Zr3ON7xMpfDG"
   },
   "source": [
    "# 6. Train the model"
   ]
  },
  {
   "cell_type": "code",
   "execution_count": 18,
   "metadata": {
    "id": "B-Y2UQmQpfDG",
    "scrolled": true
   },
   "outputs": [],
   "source": [
    "TRAINING_SCRIPT = os.path.join(paths['APIMODEL_PATH'], 'research', 'object_detection', 'model_main_tf2.py')"
   ]
  },
  {
   "cell_type": "code",
   "execution_count": 19,
   "metadata": {
    "id": "jMP2XDfQpfDH",
    "scrolled": true
   },
   "outputs": [],
   "source": [
    "command = \"python {} --model_dir={} --pipeline_config_path={} --num_train_steps=2000\".format(TRAINING_SCRIPT, paths['CHECKPOINT_PATH'],files['PIPELINE_CONFIG'])"
   ]
  },
  {
   "cell_type": "code",
   "execution_count": 20,
   "metadata": {
    "colab": {
     "base_uri": "https://localhost:8080/"
    },
    "id": "A4OXXi-ApfDH",
    "outputId": "117a0e83-012b-466e-b7a6-ccaa349ac5ab",
    "scrolled": false
   },
   "outputs": [
    {
     "name": "stdout",
     "output_type": "stream",
     "text": [
      "python Tensorflow\\models\\research\\object_detection\\model_main_tf2.py --model_dir=Tensorflow\\workspace\\models\\my_ssd_mobnet --pipeline_config_path=Tensorflow\\workspace\\models\\my_ssd_mobnet\\pipeline.config --num_train_steps=2000\n"
     ]
    }
   ],
   "source": [
    "print(command)"
   ]
  },
  {
   "cell_type": "code",
   "execution_count": null,
   "metadata": {
    "colab": {
     "base_uri": "https://localhost:8080/"
    },
    "id": "i3ZsJR-qpfDH",
    "outputId": "cabec5e1-45e6-4f2f-d9cf-297d9c1d0225",
    "scrolled": true
   },
   "outputs": [],
   "source": [
    "!{command}"
   ]
  },
  {
   "cell_type": "markdown",
   "metadata": {
    "id": "4_YRZu7npfDH"
   },
   "source": [
    "# 7. Evaluate the Model"
   ]
  },
  {
   "cell_type": "code",
   "execution_count": 21,
   "metadata": {
    "id": "80L7-fdPpfDH",
    "scrolled": true
   },
   "outputs": [],
   "source": [
    "command = \"python {} --model_dir={} --pipeline_config_path={} --checkpoint_dir={}\".format(TRAINING_SCRIPT, paths['CHECKPOINT_PATH'],files['PIPELINE_CONFIG'], paths['CHECKPOINT_PATH'])"
   ]
  },
  {
   "cell_type": "code",
   "execution_count": 22,
   "metadata": {
    "colab": {
     "base_uri": "https://localhost:8080/"
    },
    "id": "lYsgEPx9pfDH",
    "outputId": "8632d48b-91d2-45d9-bcb8-c1b172bf6eed",
    "scrolled": true
   },
   "outputs": [
    {
     "name": "stdout",
     "output_type": "stream",
     "text": [
      "python Tensorflow\\models\\research\\object_detection\\model_main_tf2.py --model_dir=Tensorflow\\workspace\\models\\my_ssd_mobnet --pipeline_config_path=Tensorflow\\workspace\\models\\my_ssd_mobnet\\pipeline.config --checkpoint_dir=Tensorflow\\workspace\\models\\my_ssd_mobnet\n"
     ]
    }
   ],
   "source": [
    "print(command)"
   ]
  },
  {
   "cell_type": "code",
   "execution_count": null,
   "metadata": {
    "id": "lqTV2jGBpfDH",
    "scrolled": true
   },
   "outputs": [],
   "source": [
    "!{command}"
   ]
  },
  {
   "cell_type": "markdown",
   "metadata": {
    "id": "orvRk02UpfDI"
   },
   "source": [
    "# 8. Load Train Model From Checkpoint"
   ]
  },
  {
   "cell_type": "code",
   "execution_count": 5,
   "metadata": {
    "id": "8TYk4_oIpfDI",
    "scrolled": true
   },
   "outputs": [],
   "source": [
    "import os\n",
    "import tensorflow as tf\n",
    "from object_detection.utils import label_map_util\n",
    "from object_detection.utils import visualization_utils as viz_utils\n",
    "from object_detection.builders import model_builder\n",
    "from object_detection.utils import config_util"
   ]
  },
  {
   "cell_type": "code",
   "execution_count": 6,
   "metadata": {
    "id": "tDnQg-cYpfDI",
    "scrolled": true
   },
   "outputs": [],
   "source": [
    "# Load pipeline config and build a detection model\n",
    "configs = config_util.get_configs_from_pipeline_file(files['PIPELINE_CONFIG'])\n",
    "detection_model = model_builder.build(model_config=configs['model'], is_training=False)\n",
    "\n",
    "# Restore checkpoint\n",
    "ckpt = tf.compat.v2.train.Checkpoint(model=detection_model)\n",
    "ckpt.restore(os.path.join(paths['CHECKPOINT_PATH'], 'ckpt-2')).expect_partial()\n",
    "\n",
    "@tf.function\n",
    "def detect_fn(image):\n",
    "    image, shapes = detection_model.preprocess(image)\n",
    "    prediction_dict = detection_model.predict(image, shapes)\n",
    "    detections = detection_model.postprocess(prediction_dict, shapes)\n",
    "    return detections"
   ]
  },
  {
   "cell_type": "markdown",
   "metadata": {
    "id": "0EmsmbBZpfDI"
   },
   "source": [
    "# 9. Detect from an Image"
   ]
  },
  {
   "cell_type": "code",
   "execution_count": 7,
   "metadata": {
    "id": "Y_MKiuZ4pfDI",
    "scrolled": true
   },
   "outputs": [],
   "source": [
    "import cv2 \n",
    "import numpy as np\n",
    "from matplotlib import pyplot as plt\n",
    "%matplotlib inline"
   ]
  },
  {
   "cell_type": "code",
   "execution_count": 8,
   "metadata": {
    "id": "cBDbIhNapfDI",
    "scrolled": true
   },
   "outputs": [],
   "source": [
    "category_index = label_map_util.create_category_index_from_labelmap(files['LABELMAP'])"
   ]
  },
  {
   "cell_type": "code",
   "execution_count": 10,
   "metadata": {
    "id": "Lx3crOhOzITB",
    "scrolled": true
   },
   "outputs": [],
   "source": [
    "IMAGE_PATH = os.path.join(paths['IMAGE_PATH'], 'test', 'thumbsup.d0e96ed8-bfc4-11ec-b5f5-60f6778ad2b0.jpg')"
   ]
  },
  {
   "cell_type": "code",
   "execution_count": 11,
   "metadata": {},
   "outputs": [
    {
     "data": {
      "text/plain": [
       "'Tensorflow\\\\workspace\\\\images\\\\test\\\\thumbsup.d0e96ed8-bfc4-11ec-b5f5-60f6778ad2b0.jpg'"
      ]
     },
     "execution_count": 11,
     "metadata": {},
     "output_type": "execute_result"
    }
   ],
   "source": [
    "IMAGE_PATH"
   ]
  },
  {
   "cell_type": "code",
   "execution_count": 18,
   "metadata": {
    "colab": {
     "base_uri": "https://localhost:8080/",
     "height": 269
    },
    "id": "Tpzn1SMry1yK",
    "outputId": "c392a2c5-10fe-4fc4-9998-a1d4c7db2bd3",
    "scrolled": true
   },
   "outputs": [
    {
     "data": {
      "image/png": "[encoded data removed]",
      "text/plain": [
       "<Figure size 432x288 with 1 Axes>"
      ]
     },
     "metadata": {
      "needs_background": "light"
     },
     "output_type": "display_data"
    }
   ],
   "source": [
    "img = cv2.imread(IMAGE_PATH)\n",
    "image_np = np.array(img)\n",
    "\n",
    "input_tensor = tf.convert_to_tensor(np.expand_dims(image_np, 0), dtype=tf.float32)\n",
    "detections = detect_fn(input_tensor)\n",
    "\n",
    "num_detections = int(detections.pop('num_detections'))\n",
    "detections = {key: value[0, :num_detections].numpy()\n",
    "              for key, value in detections.items()}\n",
    "detections['num_detections'] = num_detections\n",
    "\n",
    "# detection_classes should be ints.\n",
    "detections['detection_classes'] = detections['detection_classes'].astype(np.int64)\n",
    "\n",
    "label_id_offset = 1\n",
    "image_np_with_detections = image_np.copy()\n",
    "\n",
    "viz_utils.visualize_boxes_and_labels_on_image_array(\n",
    "            image_np_with_detections,\n",
    "            detections['detection_boxes'],\n",
    "            detections['detection_classes']+label_id_offset,\n",
    "            detections['detection_scores'],\n",
    "            category_index,\n",
    "            use_normalized_coordinates=True,\n",
    "            max_boxes_to_draw=5,\n",
    "            min_score_thresh=.8,\n",
    "            agnostic_mode=False)\n",
    "\n",
    "plt.imshow(cv2.cvtColor(image_np_with_detections, cv2.COLOR_BGR2RGB))\n",
    "plt.show()\n",
    "\n"
   ]
  },
  {
   "cell_type": "code",
   "execution_count": 17,
   "metadata": {},
   "outputs": [
    {
     "data": {
      "text/plain": [
       "{'detection_boxes': array([[0.22034459, 0.26981246, 0.6805848 , 0.49238467],\n",
       "        [0.        , 0.2995656 , 0.3715252 , 0.6068005 ],\n",
       "        [0.22105749, 0.2479572 , 0.69310164, 0.5031452 ],\n",
       "        [0.19149736, 0.54910225, 0.722702  , 0.7998958 ],\n",
       "        [0.        , 0.41248053, 0.39882398, 0.69916075],\n",
       "        [0.28523988, 0.2972194 , 0.645459  , 0.4662223 ],\n",
       "        [0.62806207, 0.        , 1.        , 0.34855047],\n",
       "        [0.16212517, 0.55253834, 0.66490614, 0.79456204],\n",
       "        [0.00761285, 0.916885  , 0.2662923 , 1.        ],\n",
       "        [0.23868182, 0.28633478, 0.68025064, 0.49818698],\n",
       "        [0.2277433 , 0.914515  , 0.48838314, 1.        ],\n",
       "        [0.70995164, 0.07164641, 0.92443466, 0.25195432],\n",
       "        [0.23494036, 0.29326704, 0.67276555, 0.48893175],\n",
       "        [0.65390366, 0.        , 0.98046297, 0.28366387],\n",
       "        [0.6820088 , 0.65486383, 0.9335411 , 0.78594637],\n",
       "        [0.6804142 , 0.05212   , 0.95244205, 0.20577687],\n",
       "        [0.17685956, 0.12394872, 0.7727146 , 0.6281303 ],\n",
       "        [0.2554769 , 0.30278835, 0.63684416, 0.54699826],\n",
       "        [0.19100903, 0.54194736, 0.650149  , 0.8127854 ],\n",
       "        [0.16340694, 0.16531426, 0.7931999 , 0.84697956],\n",
       "        [0.27467728, 0.27727076, 0.60755426, 0.48061988],\n",
       "        [0.48708296, 0.        , 1.        , 0.40703067],\n",
       "        [0.3042942 , 0.91665184, 0.5588695 , 1.        ],\n",
       "        [0.        , 0.21824184, 1.        , 1.        ],\n",
       "        [0.15344936, 0.913174  , 0.42055178, 1.        ],\n",
       "        [0.07641612, 0.9176583 , 0.34181517, 1.        ],\n",
       "        [0.6870328 , 0.00900463, 0.9633373 , 0.16211271],\n",
       "        [0.        , 0.9131034 , 0.19527496, 1.        ],\n",
       "        [0.6908409 , 0.1359143 , 0.95469767, 0.27897015],\n",
       "        [0.        , 0.28773877, 0.34888667, 0.6094692 ],\n",
       "        [0.6264087 , 0.        , 1.        , 0.20860133],\n",
       "        [0.68694293, 0.50010747, 0.94121325, 0.9170652 ],\n",
       "        [0.46185184, 0.9213944 , 0.70674264, 1.        ],\n",
       "        [0.38356587, 0.91921705, 0.6361258 , 1.        ],\n",
       "        [0.22674975, 0.30827636, 0.6064123 , 0.55523425],\n",
       "        [0.        , 0.4931792 , 0.4732633 , 0.73191845],\n",
       "        [0.        , 0.33540022, 0.30009773, 0.6986593 ],\n",
       "        [0.        , 0.3081361 , 0.36874294, 0.62979025],\n",
       "        [0.55093235, 0.30511612, 0.94011277, 1.        ],\n",
       "        [0.27987146, 0.5235431 , 0.8271637 , 0.75035965],\n",
       "        [0.        , 0.27685514, 0.3598388 , 0.6176884 ],\n",
       "        [0.29175842, 0.        , 0.762797  , 0.19309759],\n",
       "        [0.16489258, 0.09960699, 0.8035619 , 0.65185225],\n",
       "        [0.28977463, 0.69261134, 0.76306653, 0.94663596],\n",
       "        [0.6644171 , 0.05543299, 0.983015  , 0.34988678],\n",
       "        [0.5963826 , 0.02489316, 0.9772719 , 0.25067952],\n",
       "        [0.6644171 , 0.05543299, 0.983015  , 0.34988678],\n",
       "        [0.        , 0.        , 0.4258468 , 0.18313742],\n",
       "        [0.47606438, 0.5043592 , 0.84284824, 0.81119376],\n",
       "        [0.7075976 , 0.02720492, 0.9224858 , 0.21534826],\n",
       "        [0.68309647, 0.4495409 , 0.94340473, 0.58390826],\n",
       "        [0.00653771, 0.1895661 , 0.3024026 , 0.6976509 ],\n",
       "        [0.66572285, 0.        , 0.9088248 , 0.3656357 ],\n",
       "        [0.38566843, 0.44106808, 0.9293047 , 1.        ],\n",
       "        [0.67772937, 0.61357987, 0.93551886, 0.74937665],\n",
       "        [0.6652282 , 0.5848415 , 1.        , 1.        ],\n",
       "        [0.57014424, 0.03670838, 0.94958   , 0.30033207],\n",
       "        [0.21398886, 0.14718573, 0.66009855, 0.49072754],\n",
       "        [0.24975275, 0.00309683, 0.70365804, 0.24537012],\n",
       "        [0.6273978 , 0.4389515 , 1.        , 1.        ],\n",
       "        [0.55458325, 0.        , 0.9753625 , 0.3613544 ],\n",
       "        [0.12850857, 0.04073176, 0.7691938 , 0.59131527],\n",
       "        [0.7354274 , 0.        , 0.9699584 , 0.38622993],\n",
       "        [0.2480714 , 0.35277885, 0.6397351 , 0.66354686],\n",
       "        [0.24291709, 0.61637783, 0.70946646, 0.8862952 ],\n",
       "        [0.5952132 , 0.3194613 , 0.9666681 , 0.54432076],\n",
       "        [0.53709733, 0.92121255, 0.77126   , 1.        ],\n",
       "        [0.22674975, 0.30827636, 0.6064123 , 0.55523425],\n",
       "        [0.15479717, 0.31592575, 0.7780204 , 0.98757017],\n",
       "        [0.70648277, 0.37749714, 0.91930676, 0.55892175],\n",
       "        [0.6247402 , 0.40443537, 1.        , 0.6257001 ],\n",
       "        [0.        , 0.543173  , 0.50558066, 0.7678303 ],\n",
       "        [0.6267273 , 0.        , 1.        , 0.42737675],\n",
       "        [0.54562616, 0.06508856, 0.9884813 , 0.2746569 ],\n",
       "        [0.3025206 , 0.31588852, 0.46483728, 0.58386296],\n",
       "        [0.77710867, 0.91659784, 0.9940196 , 1.        ],\n",
       "        [0.16755575, 0.16573651, 0.7091608 , 0.4561401 ],\n",
       "        [0.62128824, 0.22718164, 1.        , 0.92310536],\n",
       "        [0.5700474 , 0.43410835, 0.9390068 , 0.8920616 ],\n",
       "        [0.        , 0.47573465, 0.41415843, 0.73252064],\n",
       "        [0.1217723 , 0.26754814, 0.4709381 , 0.4803782 ],\n",
       "        [0.        , 0.02386183, 1.        , 1.        ],\n",
       "        [0.2480714 , 0.35277885, 0.6397351 , 0.66354686],\n",
       "        [0.03889238, 0.9280569 , 0.2832692 , 1.        ],\n",
       "        [0.69271225, 0.69449526, 0.9452788 , 0.8244466 ],\n",
       "        [0.3275758 , 0.        , 0.54437345, 0.09512985],\n",
       "        [0.6092597 , 0.6687771 , 1.        , 0.9768621 ],\n",
       "        [0.        , 0.3380801 , 0.38822103, 0.6765154 ],\n",
       "        [0.2480714 , 0.35277885, 0.6397351 , 0.66354686],\n",
       "        [0.6926452 , 0.58949006, 1.        , 0.86369276],\n",
       "        [0.29001468, 0.31311828, 0.61719626, 0.48329133],\n",
       "        [0.8006379 , 0.9330225 , 1.        , 1.        ],\n",
       "        [0.2331406 , 0.22336054, 0.67653394, 1.        ],\n",
       "        [0.        , 0.23696885, 0.45917496, 0.52346313],\n",
       "        [0.34112448, 0.37855417, 0.62224585, 0.51047677],\n",
       "        [0.01958314, 0.3027817 , 0.5545269 , 0.5609589 ],\n",
       "        [0.        , 0.19155818, 0.47301129, 0.704779  ],\n",
       "        [0.4637739 , 0.93226814, 0.70030206, 1.        ],\n",
       "        [0.46884942, 0.57384783, 0.7446418 , 0.7430746 ],\n",
       "        [0.6553232 , 0.        , 0.9899346 , 0.23820153]], dtype=float32),\n",
       " 'detection_scores': array([0.87351346, 0.62429386, 0.4347636 , 0.19508359, 0.16282627,\n",
       "        0.1442258 , 0.12565002, 0.10738802, 0.08932814, 0.08753839,\n",
       "        0.08513474, 0.08435163, 0.08003342, 0.07896551, 0.07863298,\n",
       "        0.07794279, 0.07712269, 0.07652548, 0.07352534, 0.07319227,\n",
       "        0.07268283, 0.07215941, 0.07034287, 0.0699825 , 0.06980529,\n",
       "        0.06494266, 0.06393865, 0.06344709, 0.05837858, 0.05658874,\n",
       "        0.05489776, 0.05219585, 0.05189973, 0.05062222, 0.05045322,\n",
       "        0.04873219, 0.0484702 , 0.0475775 , 0.04715502, 0.04637811,\n",
       "        0.04597694, 0.04589382, 0.04558414, 0.04519299, 0.04519063,\n",
       "        0.04329401, 0.04235533, 0.04194924, 0.04176769, 0.04140034,\n",
       "        0.04030827, 0.03971881, 0.03925559, 0.03774315, 0.03715625,\n",
       "        0.03643703, 0.03531501, 0.03530753, 0.03499445, 0.03446537,\n",
       "        0.03417936, 0.03399163, 0.03367907, 0.03354746, 0.03230619,\n",
       "        0.03204793, 0.03162125, 0.03144029, 0.03121519, 0.0305877 ,\n",
       "        0.02991003, 0.02949262, 0.0294711 , 0.02933159, 0.02929291,\n",
       "        0.02862737, 0.02852175, 0.02817369, 0.02814823, 0.02780512,\n",
       "        0.02780387, 0.0276728 , 0.02764553, 0.0276278 , 0.02753708,\n",
       "        0.02739847, 0.02735439, 0.02708727, 0.02702245, 0.02651858,\n",
       "        0.02650458, 0.02635071, 0.02629855, 0.0262624 , 0.02608606,\n",
       "        0.02597359, 0.0258998 , 0.02580625, 0.02568215, 0.0255979 ],\n",
       "       dtype=float32),\n",
       " 'detection_classes': array([0, 3, 3, 3, 3, 0, 2, 1, 3, 1, 3, 0, 2, 0, 0, 0, 3, 0, 0, 0, 3, 2,\n",
       "        3, 3, 3, 3, 0, 3, 0, 1, 3, 2, 3, 3, 3, 3, 3, 0, 2, 3, 2, 3, 2, 3,\n",
       "        0, 3, 2, 3, 2, 3, 0, 2, 2, 2, 0, 2, 2, 1, 3, 2, 0, 0, 2, 3, 3, 3,\n",
       "        3, 1, 1, 0, 3, 0, 2, 1, 3, 3, 2, 2, 2, 0, 2, 3, 1, 0, 0, 3, 2, 1,\n",
       "        0, 2, 1, 3, 2, 2, 2, 1, 2, 0, 2, 2], dtype=int64),\n",
       " 'raw_detection_boxes': array([[-3.63542847e-02, -3.66906710e-02,  6.41130731e-02,\n",
       "          6.29929602e-02],\n",
       "        [-5.61737195e-02, -5.43064401e-02,  8.84394422e-02,\n",
       "          8.10322538e-02],\n",
       "        [-2.34207958e-02, -5.28267138e-02,  5.07878363e-02,\n",
       "          7.79654011e-02],\n",
       "        [-3.62440161e-02, -7.63452128e-02,  6.23192526e-02,\n",
       "          1.06423281e-01],\n",
       "        [-4.98529635e-02, -2.48168968e-02,  7.51500353e-02,\n",
       "          4.89949323e-02],\n",
       "        [-8.49566460e-02, -4.10004854e-02,  1.13823682e-01,\n",
       "          6.88300654e-02],\n",
       "        [-3.74699086e-02, -1.13464482e-02,  6.53803572e-02,\n",
       "          8.52508247e-02],\n",
       "        [-5.36864772e-02, -3.14860046e-02,  9.12263766e-02,\n",
       "          1.04907289e-01],\n",
       "        [-2.26915143e-02, -2.89440006e-02,  5.19232042e-02,\n",
       "          1.01011366e-01],\n",
       "        [-3.66758667e-02, -5.65698519e-02,  6.34397566e-02,\n",
       "          1.26976252e-01],\n",
       "        [-4.68058549e-02,  2.80950218e-04,  7.72667229e-02,\n",
       "          7.29987323e-02],\n",
       "        [-7.97587633e-02, -1.80298761e-02,  1.15063384e-01,\n",
       "          9.30055827e-02],\n",
       "        [-3.61780114e-02,  1.17758065e-02,  6.45656735e-02,\n",
       "          1.09316684e-01],\n",
       "        [-5.29886708e-02, -8.30240920e-03,  8.92321095e-02,\n",
       "          1.28055766e-01],\n",
       "        [-2.26309523e-02, -5.99814951e-03,  5.29953465e-02,\n",
       "          1.24934018e-01],\n",
       "        [-3.59619260e-02, -3.62630635e-02,  6.33644313e-02,\n",
       "          1.49606109e-01],\n",
       "        [-4.57414649e-02,  2.45032161e-02,  7.84517229e-02,\n",
       "          9.68515053e-02],\n",
       "        [-7.81380758e-02,  5.02767041e-03,  1.14540048e-01,\n",
       "          1.15376711e-01],\n",
       "        [-3.64454985e-02,  3.55278328e-02,  6.40298799e-02,\n",
       "          1.35179371e-01],\n",
       "        [-5.45538329e-02,  1.62704289e-02,  8.75394195e-02,\n",
       "          1.53623238e-01],\n",
       "        [-2.36262400e-02,  1.84271485e-02,  5.26799187e-02,\n",
       "          1.49963215e-01],\n",
       "        [-3.60201225e-02, -1.04224905e-02,  6.27640262e-02,\n",
       "          1.73749030e-01],\n",
       "        [-4.66609970e-02,  4.91375774e-02,  7.85973743e-02,\n",
       "          1.22041017e-01],\n",
       "        [-7.79259056e-02,  3.01436447e-02,  1.11741617e-01,\n",
       "          1.40211433e-01],\n",
       "        [-3.74350660e-02,  6.06133081e-02,  6.31763637e-02,\n",
       "          1.60864875e-01],\n",
       "        [-5.57110086e-02,  4.11977321e-02,  8.64216909e-02,\n",
       "          1.79979071e-01],\n",
       "        [-2.36664694e-02,  4.48109433e-02,  5.19704297e-02,\n",
       "          1.75205231e-01],\n",
       "        [-3.67442295e-02,  1.65778995e-02,  6.25986606e-02,\n",
       "          2.00081080e-01],\n",
       "        [-4.77337539e-02,  7.53172114e-02,  7.77261555e-02,\n",
       "          1.47556454e-01],\n",
       "        [-7.84357041e-02,  5.60645089e-02,  1.09475672e-01,\n",
       "          1.66421652e-01],\n",
       "        [-3.79377119e-02,  8.65028650e-02,  6.27252385e-02,\n",
       "          1.85733095e-01],\n",
       "        [-5.59623167e-02,  6.64371625e-02,  8.62013176e-02,\n",
       "          2.05309212e-01],\n",
       "        [-2.31346972e-02,  7.12548047e-02,  5.17364405e-02,\n",
       "          2.00713858e-01],\n",
       "        [-3.75264212e-02,  4.20060828e-02,  6.28949106e-02,\n",
       "          2.26340711e-01],\n",
       "        [-4.80819121e-02,  1.01405084e-01,  7.74379745e-02,\n",
       "          1.72505438e-01],\n",
       "        [-7.88471103e-02,  8.18821788e-02,  1.09349698e-01,\n",
       "          1.92091286e-01],\n",
       "        [-3.80194187e-02,  1.12202927e-01,  6.30466193e-02,\n",
       "          2.10369453e-01],\n",
       "        [-5.58302999e-02,  9.19937789e-02,  8.64109099e-02,\n",
       "          2.29964525e-01],\n",
       "        [-2.29297578e-02,  9.70832780e-02,  5.17973006e-02,\n",
       "          2.26424426e-01],\n",
       "        [-3.79870087e-02,  6.67292401e-02,  6.31581247e-02,\n",
       "          2.51931250e-01],\n",
       "        [-4.83941138e-02,  1.26775831e-01,  7.77936131e-02,\n",
       "          1.97234720e-01],\n",
       "        [-7.86858872e-02,  1.07390806e-01,  1.10009946e-01,\n",
       "          2.17025176e-01],\n",
       "        [-3.80349979e-02,  1.37470543e-01,  6.32616729e-02,\n",
       "          2.35071808e-01],\n",
       "        [-5.58384471e-02,  1.17655501e-01,  8.67606848e-02,\n",
       "          2.54360318e-01],\n",
       "        [-2.29424611e-02,  1.22554354e-01,  5.19817993e-02,\n",
       "          2.51839608e-01],\n",
       "        [-3.82328220e-02,  9.12353620e-02,  6.31230548e-02,\n",
       "          2.76892573e-01],\n",
       "        [-4.90053222e-02,  1.51682764e-01,  7.82559440e-02,\n",
       "          2.22115695e-01],\n",
       "        [-7.86144361e-02,  1.32613659e-01,  1.10422947e-01,\n",
       "          2.41470963e-01],\n",
       "        [-3.79940122e-02,  1.62385240e-01,  6.33192882e-02,\n",
       "          2.60143697e-01],\n",
       "        [-5.61859980e-02,  1.42884046e-01,  8.71044472e-02,\n",
       "          2.78627396e-01],\n",
       "        [-2.29539759e-02,  1.47771358e-01,  5.20964973e-02,\n",
       "          2.77120858e-01],\n",
       "        [-3.80945764e-02,  1.15995198e-01,  6.31475225e-02,\n",
       "          3.01690221e-01],\n",
       "        [-4.90789749e-02,  1.76518887e-01,  7.88709819e-02,\n",
       "          2.47000009e-01],\n",
       "        [-7.88075179e-02,  1.57477602e-01,  1.10766351e-01,\n",
       "          2.65680015e-01],\n",
       "        [-3.77733111e-02,  1.86931193e-01,  6.34632334e-02,\n",
       "          2.85942346e-01],\n",
       "        [-5.65117002e-02,  1.67665422e-01,  8.71492177e-02,\n",
       "          3.03670287e-01],\n",
       "        [-2.30851453e-02,  1.72584325e-01,  5.22357076e-02,\n",
       "          3.02568108e-01],\n",
       "        [-3.76919024e-02,  1.41706049e-01,  6.32732883e-02,\n",
       "          3.26541692e-01],\n",
       "        [-4.88938838e-02,  2.01249987e-01,  7.92118907e-02,\n",
       "          2.72375315e-01],\n",
       "        [-7.88816959e-02,  1.82247475e-01,  1.10860288e-01,\n",
       "          2.90130258e-01],\n",
       "        [-3.73427942e-02,  2.10601568e-01,  6.33428022e-02,\n",
       "          3.12314272e-01],\n",
       "        [-5.66072203e-02,  1.92017481e-01,  8.72929767e-02,\n",
       "          3.30193758e-01],\n",
       "        [-2.31413133e-02,  1.97424233e-01,  5.22326119e-02,\n",
       "          3.28467011e-01],\n",
       "        [-3.74048501e-02,  1.68642581e-01,  6.21943325e-02,\n",
       "          3.53090107e-01],\n",
       "        [-4.91956845e-02,  2.25765958e-01,  7.84711763e-02,\n",
       "          2.98225671e-01],\n",
       "        [-7.96980485e-02,  2.06313014e-01,  1.10998280e-01,\n",
       "          3.16185057e-01],\n",
       "        [-3.74922864e-02,  2.35763416e-01,  6.46192878e-02,\n",
       "          3.37064981e-01],\n",
       "        [-5.74511699e-02,  2.18233287e-01,  8.90371799e-02,\n",
       "          3.55588019e-01],\n",
       "        [-2.30089240e-02,  2.22354293e-01,  5.16568460e-02,\n",
       "          3.52796853e-01],\n",
       "        [-3.76315936e-02,  1.94201142e-01,  6.13769069e-02,\n",
       "          3.79783064e-01],\n",
       "        [-5.00575528e-02,  2.50479668e-01,  7.79932514e-02,\n",
       "          3.24569494e-01],\n",
       "        [-8.15821737e-02,  2.31728271e-01,  1.12976491e-01,\n",
       "          3.43291163e-01],\n",
       "        [-3.84654626e-02,  2.64247000e-01,  6.72732443e-02,\n",
       "          3.60387683e-01],\n",
       "        [-5.86416274e-02,  2.47315258e-01,  9.25789922e-02,\n",
       "          3.78907770e-01],\n",
       "        [-2.36210655e-02,  2.47223526e-01,  5.15691712e-02,\n",
       "          3.76375526e-01],\n",
       "        [-3.82833406e-02,  2.18700469e-01,  6.31322786e-02,\n",
       "          4.04659092e-01],\n",
       "        [-5.10038249e-02,  2.76515156e-01,  7.97851533e-02,\n",
       "          3.49853486e-01],\n",
       "        [-8.27765688e-02,  2.59089440e-01,  1.15698658e-01,\n",
       "          3.67427796e-01],\n",
       "        [-3.81247364e-02,  2.89772868e-01,  6.82367533e-02,\n",
       "          3.84849191e-01],\n",
       "        [-5.63543998e-02,  2.71895856e-01,  9.29796547e-02,\n",
       "          4.02672678e-01],\n",
       "        [-2.38522720e-02,  2.71273106e-01,  5.17059937e-02,\n",
       "          3.99915308e-01],\n",
       "        [-3.81910913e-02,  2.42724016e-01,  6.34116828e-02,\n",
       "          4.27362561e-01],\n",
       "        [-4.85998578e-02,  3.01761806e-01,  8.22264552e-02,\n",
       "          3.73147666e-01],\n",
       "        [-7.99776986e-02,  2.84063458e-01,  1.16301574e-01,\n",
       "          3.90049994e-01],\n",
       "        [-3.71214002e-02,  3.12589854e-01,  6.63103312e-02,\n",
       "          4.11505371e-01],\n",
       "        [-5.35551384e-02,  2.93506384e-01,  9.08551589e-02,\n",
       "          4.28927004e-01],\n",
       "        [-2.34724469e-02,  2.94791520e-01,  5.16859479e-02,\n",
       "          4.25724626e-01],\n",
       "        [-3.72707881e-02,  2.69216895e-01,  6.24816008e-02,\n",
       "          4.51021433e-01],\n",
       "        [-4.66185212e-02,  3.26055020e-01,  8.09805989e-02,\n",
       "          3.97998422e-01],\n",
       "        [-7.84971118e-02,  3.08231950e-01,  1.14070803e-01,\n",
       "          4.14421916e-01],\n",
       "        [-3.66378315e-02,  3.37150991e-01,  6.43408149e-02,\n",
       "          4.37807500e-01],\n",
       "        [-5.28428778e-02,  3.17295134e-01,  8.82339403e-02,\n",
       "          4.56389487e-01],\n",
       "        [-2.28213798e-02,  3.20674688e-01,  5.16603217e-02,\n",
       "          4.52943832e-01],\n",
       "        [-3.71980593e-02,  2.97176957e-01,  6.13738745e-02,\n",
       "          4.77468848e-01],\n",
       "        [-4.80986349e-02,  3.50731581e-01,  7.76256919e-02,\n",
       "          4.24299270e-01],\n",
       "        [-7.85575062e-02,  3.32609951e-01,  1.11706302e-01,\n",
       "          4.40931439e-01],\n",
       "        [-3.61970738e-02,  3.62730563e-01,  6.43682405e-02,\n",
       "          4.62641180e-01],\n",
       "        [-5.34388162e-02,  3.43954235e-01,  8.70235115e-02,\n",
       "          4.80867654e-01],\n",
       "        [-2.26994827e-02,  3.46778512e-01,  5.20283431e-02,\n",
       "          4.77747977e-01],\n",
       "        [-3.72466519e-02,  3.22727531e-01,  6.09116703e-02,\n",
       "          5.03157377e-01]], dtype=float32),\n",
       " 'raw_detection_scores': array([[0.00735039, 0.00852105, 0.00825366, 0.00971764, 0.00833181],\n",
       "        [0.00929895, 0.00911132, 0.00786999, 0.00843298, 0.00715342],\n",
       "        [0.00883448, 0.00735843, 0.00916487, 0.00990349, 0.00737903],\n",
       "        [0.00732243, 0.00932533, 0.00771642, 0.00755903, 0.00795463],\n",
       "        [0.00798672, 0.00801897, 0.00968629, 0.00908679, 0.01076794],\n",
       "        [0.00725636, 0.00833425, 0.00867328, 0.00753495, 0.0085313 ],\n",
       "        [0.00764671, 0.0087437 , 0.00718868, 0.011098  , 0.00883973],\n",
       "        [0.00816813, 0.00940731, 0.00650567, 0.00737453, 0.00610393],\n",
       "        [0.00779361, 0.00750142, 0.00881127, 0.0112882 , 0.00662702],\n",
       "        [0.00680923, 0.00843716, 0.00762343, 0.00760037, 0.00639918],\n",
       "        [0.00746161, 0.00850168, 0.00930113, 0.00887051, 0.00992489],\n",
       "        [0.00630647, 0.00749663, 0.00942218, 0.00681391, 0.01019865],\n",
       "        [0.00739056, 0.00910115, 0.00677308, 0.01106498, 0.00845829],\n",
       "        [0.0068163 , 0.01075897, 0.00708261, 0.00808653, 0.00731429],\n",
       "        [0.00773287, 0.00768307, 0.0090926 , 0.01148877, 0.00703561],\n",
       "        [0.0072726 , 0.00862038, 0.00767338, 0.00829014, 0.00672215],\n",
       "        [0.00772557, 0.01021016, 0.00867897, 0.00900185, 0.00986895],\n",
       "        [0.00639114, 0.0077672 , 0.00975323, 0.00731951, 0.01085249],\n",
       "        [0.00764844, 0.0080975 , 0.00710702, 0.01014015, 0.00834396],\n",
       "        [0.00690463, 0.01097631, 0.00793502, 0.00848985, 0.0079473 ],\n",
       "        [0.00840846, 0.00779241, 0.00901994, 0.01044059, 0.0065386 ],\n",
       "        [0.00754592, 0.00844634, 0.00765005, 0.00876147, 0.00709477],\n",
       "        [0.00739595, 0.00965351, 0.00898948, 0.00918812, 0.00983942],\n",
       "        [0.00607812, 0.00798887, 0.00963902, 0.00728154, 0.01053375],\n",
       "        [0.00755921, 0.00733957, 0.00771755, 0.00971043, 0.00891146],\n",
       "        [0.007395  , 0.01106402, 0.00881732, 0.00886616, 0.00825241],\n",
       "        [0.00869253, 0.00791383, 0.00880378, 0.00971445, 0.00631475],\n",
       "        [0.00783074, 0.00852597, 0.00782254, 0.00888196, 0.00722554],\n",
       "        [0.00716016, 0.00878671, 0.00990945, 0.00916383, 0.00996912],\n",
       "        [0.00613049, 0.00814253, 0.00957385, 0.00702181, 0.01053092],\n",
       "        [0.00732458, 0.00709471, 0.00827983, 0.00964022, 0.00985923],\n",
       "        [0.00788715, 0.01070929, 0.00923732, 0.00861797, 0.0083029 ],\n",
       "        [0.00884059, 0.00787723, 0.00864512, 0.00955254, 0.00652406],\n",
       "        [0.00791329, 0.0087859 , 0.00806111, 0.00824797, 0.00736272],\n",
       "        [0.0070799 , 0.008066  , 0.01106551, 0.00928897, 0.01098824],\n",
       "        [0.00611714, 0.00789827, 0.00965294, 0.0069378 , 0.01033226],\n",
       "        [0.00735337, 0.00706899, 0.00877774, 0.00948501, 0.01050425],\n",
       "        [0.00843412, 0.01066095, 0.00965244, 0.008277  , 0.00837132],\n",
       "        [0.00891492, 0.00777715, 0.00835755, 0.00924078, 0.00660661],\n",
       "        [0.00791073, 0.00879484, 0.00814214, 0.00766471, 0.00748   ],\n",
       "        [0.00710088, 0.00779349, 0.01179028, 0.00919494, 0.01201612],\n",
       "        [0.0058957 , 0.00799826, 0.01038086, 0.0069856 , 0.01016986],\n",
       "        [0.00747675, 0.00731981, 0.00894183, 0.00931689, 0.01072264],\n",
       "        [0.00883222, 0.01097801, 0.01003957, 0.00818643, 0.0088262 ],\n",
       "        [0.00870842, 0.00764263, 0.00820115, 0.00882742, 0.00648072],\n",
       "        [0.00799316, 0.00859311, 0.00817034, 0.00742176, 0.00744432],\n",
       "        [0.00710243, 0.00794485, 0.01189682, 0.00924793, 0.01237059],\n",
       "        [0.00575674, 0.00837579, 0.01095197, 0.00712427, 0.01060843],\n",
       "        [0.00758871, 0.00760373, 0.00893429, 0.00927627, 0.01062375],\n",
       "        [0.00895736, 0.01108667, 0.00993246, 0.00822487, 0.0088824 ],\n",
       "        [0.00863984, 0.00765607, 0.00817698, 0.00835565, 0.00634286],\n",
       "        [0.00807619, 0.00840023, 0.00823849, 0.00734535, 0.00751856],\n",
       "        [0.00707456, 0.00824514, 0.01195222, 0.00930613, 0.01247433],\n",
       "        [0.00583142, 0.00871357, 0.01089013, 0.00724396, 0.01078674],\n",
       "        [0.00778916, 0.00772518, 0.00900048, 0.00952899, 0.01021069],\n",
       "        [0.00898775, 0.01098457, 0.00958106, 0.0084236 , 0.00837296],\n",
       "        [0.00871396, 0.00756314, 0.00822699, 0.00827944, 0.00643516],\n",
       "        [0.00804156, 0.00826037, 0.00826478, 0.00751406, 0.00771087],\n",
       "        [0.00704241, 0.00806075, 0.01188451, 0.00915864, 0.01199192],\n",
       "        [0.00597271, 0.00869861, 0.01049358, 0.0073024 , 0.0102905 ],\n",
       "        [0.00793973, 0.00714716, 0.00889057, 0.00947118, 0.00941664],\n",
       "        [0.00903359, 0.01069984, 0.00897571, 0.00826535, 0.00757012],\n",
       "        [0.00845951, 0.00710472, 0.00821072, 0.00835666, 0.00678107],\n",
       "        [0.00740871, 0.00822869, 0.00839406, 0.00748578, 0.00821778],\n",
       "        [0.0066593 , 0.0072462 , 0.01160255, 0.0087665 , 0.01036257],\n",
       "        [0.00601232, 0.00781053, 0.00926879, 0.00713071, 0.00922951],\n",
       "        [0.00797805, 0.00699392, 0.00796562, 0.00929719, 0.00845113],\n",
       "        [0.00861868, 0.01007631, 0.0082112 , 0.0082117 , 0.00702655],\n",
       "        [0.00768036, 0.00642776, 0.00889981, 0.00868949, 0.00707585],\n",
       "        [0.00701809, 0.0079481 , 0.00849438, 0.00724247, 0.00818691],\n",
       "        [0.00606585, 0.00657377, 0.00993705, 0.00886682, 0.00798503],\n",
       "        [0.00618467, 0.00686848, 0.00816211, 0.00678164, 0.00923783],\n",
       "        [0.00754803, 0.00801912, 0.00678918, 0.00974712, 0.00815094],\n",
       "        [0.00848976, 0.00858337, 0.00706881, 0.00807551, 0.0068928 ],\n",
       "        [0.00746116, 0.00653574, 0.00971836, 0.00852329, 0.0066773 ],\n",
       "        [0.00700688, 0.00803572, 0.00862861, 0.00635126, 0.0072186 ],\n",
       "        [0.00636145, 0.00810465, 0.00913912, 0.00961864, 0.00865987],\n",
       "        [0.00665247, 0.00776675, 0.00855771, 0.00622505, 0.01224181],\n",
       "        [0.00709763, 0.00886694, 0.00641608, 0.00988454, 0.00874639],\n",
       "        [0.00811577, 0.00747237, 0.00600931, 0.0075829 , 0.00665188],\n",
       "        [0.00832275, 0.00798622, 0.00948635, 0.00846711, 0.00605369],\n",
       "        [0.00695863, 0.00854704, 0.00884017, 0.00586843, 0.00686797],\n",
       "        [0.00723809, 0.01049703, 0.00996488, 0.00970277, 0.01156983],\n",
       "        [0.0074369 , 0.00952131, 0.00959453, 0.00642994, 0.0142056 ],\n",
       "        [0.00744835, 0.00881663, 0.00715405, 0.00967893, 0.00887734],\n",
       "        [0.00747955, 0.00806829, 0.00611916, 0.00845566, 0.00708914],\n",
       "        [0.00890824, 0.00865856, 0.00858328, 0.00938761, 0.00616881],\n",
       "        [0.00721002, 0.00831723, 0.00876155, 0.00725889, 0.0073657 ],\n",
       "        [0.00723523, 0.00913513, 0.01017055, 0.00967702, 0.01040846],\n",
       "        [0.00727203, 0.00878245, 0.00907701, 0.00717548, 0.01148838],\n",
       "        [0.00812116, 0.00837034, 0.00765556, 0.01016447, 0.01026359],\n",
       "        [0.00732675, 0.01025048, 0.00713646, 0.00886855, 0.00707534],\n",
       "        [0.00796154, 0.00762111, 0.00802955, 0.01082793, 0.00665197],\n",
       "        [0.00678107, 0.00730109, 0.00849655, 0.00886756, 0.00758946],\n",
       "        [0.00636083, 0.00704744, 0.00835115, 0.00942245, 0.00896493],\n",
       "        [0.0064545 , 0.00707299, 0.00780973, 0.00711653, 0.00876629],\n",
       "        [0.00762561, 0.00827068, 0.00775456, 0.0109053 , 0.01221493],\n",
       "        [0.00722578, 0.01026943, 0.00777215, 0.00949106, 0.00635919],\n",
       "        [0.00770354, 0.00743124, 0.0079923 , 0.01159349, 0.00669   ],\n",
       "        [0.00635922, 0.00678813, 0.00804541, 0.00907788, 0.00678521]],\n",
       "       dtype=float32),\n",
       " 'detection_multiclass_scores': array([[1.60041451e-03, 8.73513460e-01, 2.00192034e-02, 3.24448943e-03,\n",
       "         3.50647420e-01],\n",
       "        [6.13510609e-03, 1.64558291e-02, 2.52107084e-02, 8.49488378e-03,\n",
       "         6.24293864e-01],\n",
       "        [3.63591313e-03, 2.32163846e-01, 8.49515200e-03, 8.15117359e-03,\n",
       "         4.34763610e-01],\n",
       "        [7.57870078e-03, 2.45600641e-02, 5.35753071e-02, 7.04777241e-03,\n",
       "         1.95083588e-01],\n",
       "        [1.00741386e-02, 1.36063099e-02, 1.03523731e-02, 6.00197911e-03,\n",
       "         1.62826270e-01],\n",
       "        [2.02755630e-02, 1.44225806e-01, 7.13238120e-03, 1.35959685e-02,\n",
       "         3.09428573e-02],\n",
       "        [9.66826081e-03, 2.35713124e-02, 1.00276768e-02, 1.25650018e-01,\n",
       "         1.41707361e-02],\n",
       "        [5.48097491e-03, 4.86600995e-02, 1.07388020e-01, 9.14299488e-03,\n",
       "         4.67342436e-02],\n",
       "        [6.92802668e-03, 2.30842233e-02, 8.21265578e-03, 6.65381551e-03,\n",
       "         8.93281400e-02],\n",
       "        [2.66650319e-03, 4.79649246e-01, 8.75383914e-02, 2.24918723e-02,\n",
       "         7.50318766e-02],\n",
       "        [7.18331337e-03, 2.30530202e-02, 7.69066811e-03, 6.70865178e-03,\n",
       "         8.51347446e-02],\n",
       "        [9.19881463e-03, 8.43516290e-02, 9.09674168e-03, 1.38802230e-02,\n",
       "         2.92809904e-02],\n",
       "        [1.47077441e-03, 3.06212842e-01, 8.23570490e-02, 8.00334215e-02,\n",
       "         4.45062518e-02],\n",
       "        [2.86313891e-03, 7.89655149e-02, 5.92911243e-03, 3.07073593e-02,\n",
       "         4.62844968e-02],\n",
       "        [1.05591416e-02, 7.86329806e-02, 1.44384205e-02, 1.86547935e-02,\n",
       "         6.87026978e-03],\n",
       "        [1.40910745e-02, 7.79427886e-02, 2.20769644e-03, 2.02996731e-02,\n",
       "         1.27260983e-02],\n",
       "        [3.36942077e-03, 2.59665251e-02, 1.46470666e-02, 3.68084311e-02,\n",
       "         7.71226883e-02],\n",
       "        [4.99838591e-03, 7.65254796e-02, 3.52081954e-02, 1.28967762e-02,\n",
       "         4.69553769e-02],\n",
       "        [6.18109107e-03, 7.35253394e-02, 8.15222561e-02, 1.04278922e-02,\n",
       "         4.01333570e-02],\n",
       "        [4.89109755e-03, 7.31922686e-02, 2.45153606e-02, 8.10882449e-03,\n",
       "         3.28513980e-02],\n",
       "        [7.13622570e-03, 1.45623207e-01, 4.74113226e-03, 7.97501206e-03,\n",
       "         7.26828277e-02],\n",
       "        [2.57891417e-03, 9.79179144e-03, 4.10500169e-03, 7.21594095e-02,\n",
       "         2.82105803e-03],\n",
       "        [6.79725409e-03, 1.93420351e-02, 7.74386525e-03, 7.56236911e-03,\n",
       "         7.03428686e-02],\n",
       "        [7.51027465e-03, 9.70298052e-03, 2.01781690e-02, 9.75456834e-03,\n",
       "         6.99824989e-02],\n",
       "        [8.72385502e-03, 2.18464434e-02, 7.85934925e-03, 6.99964166e-03,\n",
       "         6.98052943e-02],\n",
       "        [8.22797418e-03, 2.06835568e-02, 6.84869289e-03, 7.65997171e-03,\n",
       "         6.49426579e-02],\n",
       "        [1.13639832e-02, 6.39386475e-02, 2.85530090e-03, 1.55774653e-02,\n",
       "         1.54317319e-02],\n",
       "        [8.76975060e-03, 2.18903720e-02, 9.93824005e-03, 6.30301237e-03,\n",
       "         6.34470880e-02],\n",
       "        [1.53688192e-02, 5.83785772e-02, 5.94744086e-03, 1.35409534e-02,\n",
       "         1.12892091e-02],\n",
       "        [8.77761841e-03, 4.18305993e-02, 5.65887392e-02, 8.04218650e-03,\n",
       "         2.32766002e-01],\n",
       "        [5.74716926e-03, 2.46349871e-02, 4.32211161e-03, 8.33731890e-03,\n",
       "         5.48977554e-02],\n",
       "        [3.90836596e-03, 2.94908881e-03, 7.81801343e-03, 5.21958470e-02,\n",
       "         4.50944901e-03],\n",
       "        [6.69440627e-03, 1.44712627e-02, 7.65007734e-03, 7.69835711e-03,\n",
       "         5.18997312e-02],\n",
       "        [7.18650222e-03, 1.36136711e-02, 7.49891996e-03, 6.73720241e-03,\n",
       "         5.06222248e-02],\n",
       "        [1.09930634e-02, 5.91998994e-02, 3.14402878e-02, 7.92399049e-03,\n",
       "         5.04532158e-02],\n",
       "        [1.12162530e-02, 2.70964205e-02, 8.83376598e-03, 5.46589494e-03,\n",
       "         4.87321913e-02],\n",
       "        [5.08385897e-03, 2.06285715e-02, 9.27022099e-03, 1.72572136e-02,\n",
       "         4.84701991e-02],\n",
       "        [7.08091259e-03, 4.75775003e-02, 5.30990660e-02, 5.03271818e-03,\n",
       "         2.90968537e-01],\n",
       "        [4.56857681e-03, 3.91510129e-03, 6.14297390e-03, 4.71550226e-02,\n",
       "         3.85144353e-03],\n",
       "        [1.24827921e-02, 1.83591247e-02, 1.92520320e-02, 1.46407783e-02,\n",
       "         4.63781059e-02],\n",
       "        [3.63340974e-03, 3.69088948e-02, 1.14224851e-02, 4.59769368e-02,\n",
       "         9.62488949e-02],\n",
       "        [1.01330578e-02, 8.41397047e-03, 1.63157284e-02, 9.90262628e-03,\n",
       "         4.58938181e-02],\n",
       "        [6.69801235e-03, 1.05323792e-02, 2.00535953e-02, 4.55841422e-02,\n",
       "         5.41772544e-02],\n",
       "        [9.44155455e-03, 1.60641372e-02, 1.27243996e-02, 6.79504871e-03,\n",
       "         4.51929867e-02],\n",
       "        [2.63813138e-03, 4.51906323e-02, 5.38873672e-03, 4.23553288e-02,\n",
       "         9.16916132e-03],\n",
       "        [8.91378522e-03, 2.19444633e-02, 1.04717612e-02, 8.34542513e-03,\n",
       "         4.32940125e-02],\n",
       "        [2.63813138e-03, 4.51906323e-02, 5.38873672e-03, 4.23553288e-02,\n",
       "         9.16916132e-03],\n",
       "        [4.92814183e-03, 1.55213773e-02, 1.88100934e-02, 8.04722309e-03,\n",
       "         4.19492424e-02],\n",
       "        [6.51672482e-03, 8.75955820e-03, 1.01674795e-02, 4.17676866e-02,\n",
       "         8.62360001e-03],\n",
       "        [1.38433278e-02, 7.47161508e-02, 7.62036443e-03, 9.30148363e-03,\n",
       "         4.14003432e-02],\n",
       "        [1.16026402e-02, 4.03082669e-02, 4.71869111e-03, 1.42047107e-02,\n",
       "         1.04254484e-02],\n",
       "        [1.05414987e-02, 4.87461686e-03, 4.01395559e-03, 3.97188067e-02,\n",
       "         5.80027699e-03],\n",
       "        [5.34695387e-03, 5.45111299e-03, 8.97961855e-03, 3.92555892e-02,\n",
       "         5.33470511e-03],\n",
       "        [6.52039051e-03, 1.67207718e-02, 1.14867687e-02, 3.77431512e-02,\n",
       "         7.22938776e-03],\n",
       "        [8.87531042e-03, 3.71562541e-02, 6.73571229e-03, 1.17460489e-02,\n",
       "         5.73769212e-03],\n",
       "        [4.22641635e-03, 5.91969490e-03, 1.51031017e-02, 3.64370346e-02,\n",
       "         4.73308563e-03],\n",
       "        [4.61795926e-03, 1.20542049e-02, 1.46107674e-02, 3.53150070e-02,\n",
       "         1.88559890e-02],\n",
       "        [1.11489296e-02, 3.80026698e-02, 3.53075266e-02, 1.45055950e-02,\n",
       "         1.94571614e-02],\n",
       "        [9.46593285e-03, 7.12811947e-03, 1.71483457e-02, 8.87194276e-03,\n",
       "         3.49944532e-02],\n",
       "        [6.45941496e-03, 5.93036413e-03, 6.87023997e-03, 3.44653726e-02,\n",
       "         3.07610631e-03],\n",
       "        [8.78536701e-03, 3.41793597e-02, 7.48455524e-03, 9.29362774e-02,\n",
       "         1.94960833e-02],\n",
       "        [3.19030881e-03, 3.39916348e-02, 2.49633789e-02, 3.93307507e-02,\n",
       "         2.46197879e-02],\n",
       "        [5.30990958e-03, 2.59181857e-03, 9.23228264e-03, 3.36790681e-02,\n",
       "         8.69062543e-03],\n",
       "        [6.18544221e-03, 2.70224512e-02, 2.76455283e-02, 4.09010053e-03,\n",
       "         3.35474610e-02],\n",
       "        [8.00073147e-03, 1.14559233e-02, 1.44098401e-02, 6.30649924e-03,\n",
       "         3.23061943e-02],\n",
       "        [6.80926442e-03, 5.90327382e-03, 1.81291103e-02, 9.24947858e-03,\n",
       "         3.20479274e-02],\n",
       "        [6.92546368e-03, 1.23571157e-02, 7.47165084e-03, 9.70062613e-03,\n",
       "         3.16212475e-02],\n",
       "        [1.09930634e-02, 5.91998994e-02, 3.14402878e-02, 7.92399049e-03,\n",
       "         5.04532158e-02],\n",
       "        [4.28551435e-03, 2.25271583e-02, 3.12151909e-02, 1.93685293e-02,\n",
       "         2.08284259e-02],\n",
       "        [8.07696581e-03, 3.05877030e-02, 7.56296515e-03, 1.00765824e-02,\n",
       "         1.84136331e-02],\n",
       "        [7.98073411e-03, 9.20042396e-03, 6.36875629e-03, 8.82357359e-03,\n",
       "         2.99100280e-02],\n",
       "        [1.28698051e-02, 2.94926167e-02, 1.13232434e-02, 5.21460176e-03,\n",
       "         1.77609324e-02],\n",
       "        [5.80009818e-03, 6.83519244e-03, 5.84343076e-03, 2.94710994e-02,\n",
       "         3.77663970e-03],\n",
       "        [1.47732198e-02, 1.68023705e-02, 2.93315947e-02, 1.06386840e-02,\n",
       "         2.99892426e-02],\n",
       "        [5.90750575e-03, 7.71415234e-03, 6.06414676e-03, 8.95020366e-03,\n",
       "         2.92929113e-02],\n",
       "        [5.58453798e-03, 1.15956366e-02, 9.18823481e-03, 8.16515088e-03,\n",
       "         2.86273658e-02],\n",
       "        [7.28401542e-03, 5.96037507e-03, 5.75742126e-03, 2.85217464e-02,\n",
       "         3.12569737e-03],\n",
       "        [5.16444445e-03, 7.39064813e-03, 8.87706876e-03, 2.81736851e-02,\n",
       "         5.45072556e-03],\n",
       "        [8.44985247e-03, 7.35768676e-03, 6.94760680e-03, 2.81482339e-02,\n",
       "         7.75432587e-03],\n",
       "        [1.09590292e-02, 2.78051198e-02, 1.19743645e-02, 6.72501326e-03,\n",
       "         8.12084079e-02],\n",
       "        [3.47149372e-03, 6.75794482e-03, 1.41596794e-03, 2.78038681e-02,\n",
       "         8.41677189e-04],\n",
       "        [7.53965974e-03, 7.48667121e-03, 9.36883688e-03, 8.28918815e-03,\n",
       "         2.76727974e-02],\n",
       "        [6.18544221e-03, 2.70224512e-02, 2.76455283e-02, 4.09010053e-03,\n",
       "         3.35474610e-02],\n",
       "        [9.18227434e-03, 2.76277959e-02, 8.98924470e-03, 5.17433882e-03,\n",
       "         3.62696052e-02],\n",
       "        [1.07825100e-02, 2.75370777e-02, 7.67174363e-03, 1.71875358e-02,\n",
       "         7.75742531e-03],\n",
       "        [7.87112117e-03, 1.26366019e-02, 8.27175379e-03, 8.79830122e-03,\n",
       "         2.73984671e-02],\n",
       "        [6.81927800e-03, 3.43176723e-03, 1.53541863e-02, 2.73543894e-02,\n",
       "         5.56850433e-03],\n",
       "        [5.43043017e-03, 2.02813447e-02, 2.70872712e-02, 6.90382719e-03,\n",
       "         1.30341619e-01],\n",
       "        [6.18544221e-03, 2.70224512e-02, 2.76455283e-02, 4.09010053e-03,\n",
       "         3.35474610e-02],\n",
       "        [8.85611773e-03, 1.40098631e-02, 7.89663196e-03, 2.65185833e-02,\n",
       "         1.16666555e-02],\n",
       "        [2.65702605e-03, 3.56220603e-02, 2.65045762e-02, 4.08956409e-03,\n",
       "         1.88081563e-02],\n",
       "        [5.63219190e-03, 1.72586739e-02, 8.29508901e-03, 6.99752569e-03,\n",
       "         2.63507068e-02],\n",
       "        [4.70924377e-03, 4.07686830e-03, 8.17364454e-03, 2.62985528e-02,\n",
       "         6.29863143e-03],\n",
       "        [4.80550528e-03, 8.30641389e-03, 7.50282407e-03, 2.62624025e-02,\n",
       "         8.95223022e-03],\n",
       "        [6.90177083e-03, 8.07702541e-03, 3.71685624e-03, 2.60860622e-02,\n",
       "         1.13850534e-02],\n",
       "        [2.82558799e-03, 1.50405765e-02, 2.59735882e-02, 1.17795765e-02,\n",
       "         2.46668458e-02],\n",
       "        [5.22774458e-03, 3.05366516e-03, 5.10942936e-03, 2.58997977e-02,\n",
       "         8.77508521e-03],\n",
       "        [6.49088621e-03, 2.58062482e-02, 8.03688169e-03, 5.39842248e-03,\n",
       "         3.00027728e-02],\n",
       "        [8.15951824e-03, 1.48457289e-02, 6.86895847e-03, 2.56821513e-02,\n",
       "         7.86712766e-03],\n",
       "        [4.94763255e-03, 4.82436717e-02, 4.91446257e-03, 2.55979002e-02,\n",
       "         3.56817245e-02]], dtype=float32),\n",
       " 'detection_anchor_indices': array([10727,  9893, 10721, 10763, 10031, 10606, 12486, 10523,  1433,\n",
       "        10609,  3593, 11538, 10729, 11533, 11608, 11536, 12259, 10615,\n",
       "        10519, 12271, 10722, 12427,  4313, 12683,  2873,  2153, 11530,\n",
       "          713, 11548,  9769, 11531, 11607,  5753,  5033, 10495, 10157,\n",
       "        12030,  9775, 12459, 10997, 12084, 10811, 12319, 10901, 11545,\n",
       "        11417, 11545, 10091, 11239, 11532, 11584, 12086, 11421, 12403,\n",
       "        11602, 12528, 11299, 12252, 10697, 12531, 12426, 12253, 11661,\n",
       "        12270, 10775, 11453,  6473, 10495, 12277, 11574, 11585, 10163,\n",
       "        12483, 11303, 10496,  8633, 12256, 12513, 12456, 10037, 10242,\n",
       "        12707, 12270,  1679, 11614,  4091, 12532, 10021, 12270, 11725,\n",
       "        10848,  8879, 12279, 12082, 10738, 12148, 12085,  5759, 11118,\n",
       "        11527]),\n",
       " 'num_detections': 100}"
      ]
     },
     "execution_count": 17,
     "metadata": {},
     "output_type": "execute_result"
    }
   ],
   "source": [
    "detections"
   ]
  },
  {
   "cell_type": "code",
   "execution_count": null,
   "metadata": {},
   "outputs": [],
   "source": []
  },
  {
   "cell_type": "markdown",
   "metadata": {
    "id": "IsNAaYAo0WVL"
   },
   "source": [
    "# 10. Real Time Detections from your Webcam"
   ]
  },
  {
   "cell_type": "code",
   "execution_count": null,
   "metadata": {
    "scrolled": true
   },
   "outputs": [],
   "source": [
    "!pip uninstall opencv-python-headless -y"
   ]
  },
  {
   "cell_type": "code",
   "execution_count": 37,
   "metadata": {
    "id": "o_grs6OGpfDJ",
    "scrolled": true
   },
   "outputs": [],
   "source": [
    "cap = cv2.VideoCapture(0)\n",
    "width = int(cap.get(cv2.CAP_PROP_FRAME_WIDTH))\n",
    "height = int(cap.get(cv2.CAP_PROP_FRAME_HEIGHT))\n",
    "\n",
    "while cap.isOpened(): \n",
    "    ret, frame = cap.read()\n",
    "    image_np = np.array(frame)\n",
    "    \n",
    "    input_tensor = tf.convert_to_tensor(np.expand_dims(image_np, 0), dtype=tf.float32)\n",
    "    detections = detect_fn(input_tensor)\n",
    "    \n",
    "    num_detections = int(detections.pop('num_detections'))\n",
    "    detections = {key: value[0, :num_detections].numpy()\n",
    "                  for key, value in detections.items()}\n",
    "    detections['num_detections'] = num_detections\n",
    "\n",
    "    # detection_classes should be ints.\n",
    "    detections['detection_classes'] = detections['detection_classes'].astype(np.int64)\n",
    "\n",
    "    label_id_offset = 1\n",
    "    image_np_with_detections = image_np.copy()\n",
    "\n",
    "    viz_utils.visualize_boxes_and_labels_on_image_array(\n",
    "                image_np_with_detections,\n",
    "                detections['detection_boxes'],\n",
    "                detections['detection_classes']+label_id_offset,\n",
    "                detections['detection_scores'],\n",
    "                category_index,\n",
    "                use_normalized_coordinates=True,\n",
    "                max_boxes_to_draw=5,\n",
    "                min_score_thresh=.8,\n",
    "                agnostic_mode=False)\n",
    "\n",
    "    cv2.imshow('object detection',  cv2.resize(image_np_with_detections, (800, 600)))\n",
    "    \n",
    "    if cv2.waitKey(10) & 0xFF == ord('q'):\n",
    "        cap.release()\n",
    "        cv2.destroyAllWindows()\n",
    "        break"
   ]
  },
  {
   "cell_type": "markdown",
   "metadata": {
    "id": "rzlM4jt0pfDJ"
   },
   "source": [
    "# 10. Freezing the Graph"
   ]
  },
  {
   "cell_type": "code",
   "execution_count": 41,
   "metadata": {
    "id": "n4olHB2npfDJ",
    "scrolled": true
   },
   "outputs": [],
   "source": [
    "FREEZE_SCRIPT = os.path.join(paths['APIMODEL_PATH'], 'research', 'object_detection', 'exporter_main_v2.py ')"
   ]
  },
  {
   "cell_type": "code",
   "execution_count": 42,
   "metadata": {
    "id": "0AjO93QDpfDJ",
    "scrolled": true
   },
   "outputs": [],
   "source": [
    "command = \"python {} --input_type=image_tensor --pipeline_config_path={} --trained_checkpoint_dir={} --output_directory={}\".format(FREEZE_SCRIPT ,files['PIPELINE_CONFIG'], paths['CHECKPOINT_PATH'], paths['OUTPUT_PATH'])"
   ]
  },
  {
   "cell_type": "code",
   "execution_count": 43,
   "metadata": {
    "colab": {
     "base_uri": "https://localhost:8080/"
    },
    "id": "F6Lsp3tCpfDJ",
    "outputId": "c3828529-bf06-4df5-d7f3-145890ec3edd",
    "scrolled": true
   },
   "outputs": [
    {
     "name": "stdout",
     "output_type": "stream",
     "text": [
      "python Tensorflow\\models\\research\\object_detection\\exporter_main_v2.py  --input_type=image_tensor --pipeline_config_path=Tensorflow\\workspace\\models\\my_ssd_mobnet\\pipeline.config --trained_checkpoint_dir=Tensorflow\\workspace\\models\\my_ssd_mobnet --output_directory=Tensorflow\\workspace\\models\\my_ssd_mobnet\\export\n"
     ]
    }
   ],
   "source": [
    "print(command)"
   ]
  },
  {
   "cell_type": "code",
   "execution_count": 45,
   "metadata": {
    "scrolled": true
   },
   "outputs": [
    {
     "ename": "SyntaxError",
     "evalue": "invalid syntax (4193250077.py, line 1)",
     "output_type": "error",
     "traceback": [
      "\u001b[1;36m  File \u001b[1;32m\"C:\\Users\\nimra\\AppData\\Local\\Temp\\ipykernel_9432\\4193250077.py\"\u001b[1;36m, line \u001b[1;32m1\u001b[0m\n\u001b[1;33m    python Tensorflow\\models\\research\\object_detection\\exporter_main_v2.py  --input_type=image_tensor --pipeline_config_path=Tensorflow\\workspace\\models\\my_ssd_mobnet\\pipeline.config --trained_checkpoint_dir=Tensorflow\\workspace\\models\\my_ssd_mobnet --output_directory=Tensorflow\\workspace\\models\\my_ssd_mobnet\\export\u001b[0m\n\u001b[1;37m                    ^\u001b[0m\n\u001b[1;31mSyntaxError\u001b[0m\u001b[1;31m:\u001b[0m invalid syntax\n"
     ]
    }
   ],
   "source": [
    "python Tensorflow\\models\\research\\object_detection\\exporter_main_v2.py  --input_type=image_tensor --pipeline_config_path=Tensorflow\\workspace\\models\\my_ssd_mobnet\\pipeline.config --trained_checkpoint_dir=Tensorflow\\workspace\\models\\my_ssd_mobnet --output_directory=Tensorflow\\workspace\\models\\my_ssd_mobnet\\export"
   ]
  },
  {
   "cell_type": "code",
   "execution_count": null,
   "metadata": {
    "colab": {
     "base_uri": "https://localhost:8080/"
    },
    "id": "1Sw1ULgHpfDJ",
    "outputId": "6fd441e1-9fc9-4889-d072-3395c21e40b6",
    "scrolled": true
   },
   "outputs": [],
   "source": [
    "!{command}"
   ]
  },
  {
   "cell_type": "markdown",
   "metadata": {
    "id": "wTPmdqaXpfDK"
   },
   "source": [
    "# 11. Conversion to TFJS"
   ]
  },
  {
   "cell_type": "code",
   "execution_count": 47,
   "metadata": {
    "colab": {
     "base_uri": "https://localhost:8080/"
    },
    "id": "gZ6UzY_fpfDK",
    "outputId": "0c84722e-1c2b-4002-d857-80827ade828a",
    "scrolled": false
   },
   "outputs": [
    {
     "name": "stdout",
     "output_type": "stream",
     "text": [
      "Collecting tensorflowjs"
     ]
    },
    {
     "name": "stderr",
     "output_type": "stream",
     "text": [
      "WARNING: Ignoring invalid distribution -tkinter-pymol (c:\\programdata\\pymol\\dlls)\n",
      "WARNING: Ignoring invalid distribution -tkinter-pymol (c:\\programdata\\pymol\\dlls)\n",
      "WARNING: Ignoring invalid distribution -tkinter-pymol (c:\\programdata\\pymol\\dlls)\n",
      "ERROR: pip's dependency resolver does not currently take into account all the packages that are installed. This behaviour is the source of the following dependency conflicts.\n",
      "tf-models-official 2.8.0 requires google-api-python-client>=1.6.7, which is not installed.\n",
      "tf-models-official 2.8.0 requires kaggle>=1.3.9, which is not installed.\n",
      "tf-models-official 2.8.0 requires oauth2client, which is not installed.\n",
      "tf-models-official 2.8.0 requires opencv-python-headless, which is not installed.\n",
      "tf-models-official 2.8.0 requires py-cpuinfo>=3.3.0, which is not installed.\n",
      "tf-models-official 2.8.0 requires sacrebleu, which is not installed.\n",
      "tf-models-official 2.8.0 requires sentencepiece, which is not installed.\n",
      "tf-models-official 2.8.0 requires seqeval, which is not installed.\n",
      "tf-models-official 2.8.0 requires tensorflow-datasets, which is not installed.\n",
      "tf-models-official 2.8.0 requires tensorflow-model-optimization>=0.4.1, which is not installed.\n",
      "tf-models-official 2.8.0 requires tensorflow-text~=2.8.0, which is not installed.\n",
      "tf-models-official 2.8.0 requires pyyaml<6.0,>=5.1, but you have pyyaml 6.0 which is incompatible.\n",
      "WARNING: Ignoring invalid distribution -tkinter-pymol (c:\\programdata\\pymol\\dlls)\n",
      "WARNING: Ignoring invalid distribution -tkinter-pymol (c:\\programdata\\pymol\\dlls)\n"
     ]
    },
    {
     "name": "stdout",
     "output_type": "stream",
     "text": [
      "\n",
      "  Downloading tensorflowjs-3.15.0-py3-none-any.whl (77 kB)\n",
      "     -------------------------------------- 77.4/77.4 KB 359.0 kB/s eta 0:00:00\n",
      "Requirement already satisfied: six<2,>=1.12.0 in d:\\haris_study\\piaic\\artificial intelligence\\ai_projects\\tensorflow object detection\\tfodcourse\\tfod\\lib\\site-packages (from tensorflowjs) (1.16.0)\n",
      "Requirement already satisfied: tensorflow<3,>=2.1.0 in d:\\haris_study\\piaic\\artificial intelligence\\ai_projects\\tensorflow object detection\\tfodcourse\\tfod\\lib\\site-packages (from tensorflowjs) (2.8.0)\n",
      "Collecting tensorflow-hub<0.13,>=0.7.0\n",
      "  Downloading tensorflow_hub-0.12.0-py2.py3-none-any.whl (108 kB)\n",
      "     ------------------------------------ 108.8/108.8 KB 394.3 kB/s eta 0:00:00\n",
      "Requirement already satisfied: astunparse>=1.6.0 in d:\\haris_study\\piaic\\artificial intelligence\\ai_projects\\tensorflow object detection\\tfodcourse\\tfod\\lib\\site-packages (from tensorflow<3,>=2.1.0->tensorflowjs) (1.6.3)\n",
      "Requirement already satisfied: grpcio<2.0,>=1.24.3 in d:\\haris_study\\piaic\\artificial intelligence\\ai_projects\\tensorflow object detection\\tfodcourse\\tfod\\lib\\site-packages (from tensorflow<3,>=2.1.0->tensorflowjs) (1.44.0)\n",
      "Requirement already satisfied: numpy>=1.20 in d:\\haris_study\\piaic\\artificial intelligence\\ai_projects\\tensorflow object detection\\tfodcourse\\tfod\\lib\\site-packages (from tensorflow<3,>=2.1.0->tensorflowjs) (1.21.6)\n",
      "Requirement already satisfied: typing-extensions>=3.6.6 in d:\\haris_study\\piaic\\artificial intelligence\\ai_projects\\tensorflow object detection\\tfodcourse\\tfod\\lib\\site-packages (from tensorflow<3,>=2.1.0->tensorflowjs) (4.2.0)\n",
      "Requirement already satisfied: termcolor>=1.1.0 in d:\\haris_study\\piaic\\artificial intelligence\\ai_projects\\tensorflow object detection\\tfodcourse\\tfod\\lib\\site-packages (from tensorflow<3,>=2.1.0->tensorflowjs) (1.1.0)\n",
      "Requirement already satisfied: protobuf>=3.9.2 in d:\\haris_study\\piaic\\artificial intelligence\\ai_projects\\tensorflow object detection\\tfodcourse\\tfod\\lib\\site-packages (from tensorflow<3,>=2.1.0->tensorflowjs) (3.20.0)\n",
      "Requirement already satisfied: opt-einsum>=2.3.2 in d:\\haris_study\\piaic\\artificial intelligence\\ai_projects\\tensorflow object detection\\tfodcourse\\tfod\\lib\\site-packages (from tensorflow<3,>=2.1.0->tensorflowjs) (3.3.0)\n",
      "Requirement already satisfied: flatbuffers>=1.12 in d:\\haris_study\\piaic\\artificial intelligence\\ai_projects\\tensorflow object detection\\tfodcourse\\tfod\\lib\\site-packages (from tensorflow<3,>=2.1.0->tensorflowjs) (2.0)\n",
      "Requirement already satisfied: keras<2.9,>=2.8.0rc0 in d:\\haris_study\\piaic\\artificial intelligence\\ai_projects\\tensorflow object detection\\tfodcourse\\tfod\\lib\\site-packages (from tensorflow<3,>=2.1.0->tensorflowjs) (2.8.0)\n",
      "Requirement already satisfied: tensorboard<2.9,>=2.8 in d:\\haris_study\\piaic\\artificial intelligence\\ai_projects\\tensorflow object detection\\tfodcourse\\tfod\\lib\\site-packages (from tensorflow<3,>=2.1.0->tensorflowjs) (2.8.0)\n",
      "Requirement already satisfied: h5py>=2.9.0 in d:\\haris_study\\piaic\\artificial intelligence\\ai_projects\\tensorflow object detection\\tfodcourse\\tfod\\lib\\site-packages (from tensorflow<3,>=2.1.0->tensorflowjs) (3.6.0)\n",
      "Requirement already satisfied: keras-preprocessing>=1.1.1 in d:\\haris_study\\piaic\\artificial intelligence\\ai_projects\\tensorflow object detection\\tfodcourse\\tfod\\lib\\site-packages (from tensorflow<3,>=2.1.0->tensorflowjs) (1.1.2)\n",
      "Requirement already satisfied: tensorflow-io-gcs-filesystem>=0.23.1 in d:\\haris_study\\piaic\\artificial intelligence\\ai_projects\\tensorflow object detection\\tfodcourse\\tfod\\lib\\site-packages (from tensorflow<3,>=2.1.0->tensorflowjs) (0.24.0)\n",
      "Requirement already satisfied: libclang>=9.0.1 in d:\\haris_study\\piaic\\artificial intelligence\\ai_projects\\tensorflow object detection\\tfodcourse\\tfod\\lib\\site-packages (from tensorflow<3,>=2.1.0->tensorflowjs) (13.0.0)\n",
      "Requirement already satisfied: tf-estimator-nightly==2.8.0.dev2021122109 in d:\\haris_study\\piaic\\artificial intelligence\\ai_projects\\tensorflow object detection\\tfodcourse\\tfod\\lib\\site-packages (from tensorflow<3,>=2.1.0->tensorflowjs) (2.8.0.dev2021122109)\n",
      "Requirement already satisfied: gast>=0.2.1 in d:\\haris_study\\piaic\\artificial intelligence\\ai_projects\\tensorflow object detection\\tfodcourse\\tfod\\lib\\site-packages (from tensorflow<3,>=2.1.0->tensorflowjs) (0.5.3)\n",
      "Requirement already satisfied: setuptools in d:\\haris_study\\piaic\\artificial intelligence\\ai_projects\\tensorflow object detection\\tfodcourse\\tfod\\lib\\site-packages (from tensorflow<3,>=2.1.0->tensorflowjs) (47.1.0)\n",
      "Requirement already satisfied: absl-py>=0.4.0 in d:\\haris_study\\piaic\\artificial intelligence\\ai_projects\\tensorflow object detection\\tfodcourse\\tfod\\lib\\site-packages (from tensorflow<3,>=2.1.0->tensorflowjs) (1.0.0)\n",
      "Requirement already satisfied: wrapt>=1.11.0 in d:\\haris_study\\piaic\\artificial intelligence\\ai_projects\\tensorflow object detection\\tfodcourse\\tfod\\lib\\site-packages (from tensorflow<3,>=2.1.0->tensorflowjs) (1.14.0)\n",
      "Requirement already satisfied: google-pasta>=0.1.1 in d:\\haris_study\\piaic\\artificial intelligence\\ai_projects\\tensorflow object detection\\tfodcourse\\tfod\\lib\\site-packages (from tensorflow<3,>=2.1.0->tensorflowjs) (0.2.0)\n",
      "Requirement already satisfied: wheel<1.0,>=0.23.0 in d:\\haris_study\\piaic\\artificial intelligence\\ai_projects\\tensorflow object detection\\tfodcourse\\tfod\\lib\\site-packages (from astunparse>=1.6.0->tensorflow<3,>=2.1.0->tensorflowjs) (0.37.1)\n",
      "Requirement already satisfied: cached-property in d:\\haris_study\\piaic\\artificial intelligence\\ai_projects\\tensorflow object detection\\tfodcourse\\tfod\\lib\\site-packages (from h5py>=2.9.0->tensorflow<3,>=2.1.0->tensorflowjs) (1.5.2)\n",
      "Requirement already satisfied: tensorboard-plugin-wit>=1.6.0 in d:\\haris_study\\piaic\\artificial intelligence\\ai_projects\\tensorflow object detection\\tfodcourse\\tfod\\lib\\site-packages (from tensorboard<2.9,>=2.8->tensorflow<3,>=2.1.0->tensorflowjs) (1.8.1)\n",
      "Requirement already satisfied: requests<3,>=2.21.0 in d:\\haris_study\\piaic\\artificial intelligence\\ai_projects\\tensorflow object detection\\tfodcourse\\tfod\\lib\\site-packages (from tensorboard<2.9,>=2.8->tensorflow<3,>=2.1.0->tensorflowjs) (2.27.1)\n",
      "Requirement already satisfied: google-auth-oauthlib<0.5,>=0.4.1 in d:\\haris_study\\piaic\\artificial intelligence\\ai_projects\\tensorflow object detection\\tfodcourse\\tfod\\lib\\site-packages (from tensorboard<2.9,>=2.8->tensorflow<3,>=2.1.0->tensorflowjs) (0.4.6)\n",
      "Requirement already satisfied: tensorboard-data-server<0.7.0,>=0.6.0 in d:\\haris_study\\piaic\\artificial intelligence\\ai_projects\\tensorflow object detection\\tfodcourse\\tfod\\lib\\site-packages (from tensorboard<2.9,>=2.8->tensorflow<3,>=2.1.0->tensorflowjs) (0.6.1)\n",
      "Requirement already satisfied: werkzeug>=0.11.15 in d:\\haris_study\\piaic\\artificial intelligence\\ai_projects\\tensorflow object detection\\tfodcourse\\tfod\\lib\\site-packages (from tensorboard<2.9,>=2.8->tensorflow<3,>=2.1.0->tensorflowjs) (2.1.1)\n",
      "Requirement already satisfied: markdown>=2.6.8 in d:\\haris_study\\piaic\\artificial intelligence\\ai_projects\\tensorflow object detection\\tfodcourse\\tfod\\lib\\site-packages (from tensorboard<2.9,>=2.8->tensorflow<3,>=2.1.0->tensorflowjs) (3.3.6)\n",
      "Requirement already satisfied: google-auth<3,>=1.6.3 in d:\\haris_study\\piaic\\artificial intelligence\\ai_projects\\tensorflow object detection\\tfodcourse\\tfod\\lib\\site-packages (from tensorboard<2.9,>=2.8->tensorflow<3,>=2.1.0->tensorflowjs) (2.6.5)\n",
      "Requirement already satisfied: pyasn1-modules>=0.2.1 in d:\\haris_study\\piaic\\artificial intelligence\\ai_projects\\tensorflow object detection\\tfodcourse\\tfod\\lib\\site-packages (from google-auth<3,>=1.6.3->tensorboard<2.9,>=2.8->tensorflow<3,>=2.1.0->tensorflowjs) (0.2.8)\n",
      "Requirement already satisfied: rsa<5,>=3.1.4 in d:\\haris_study\\piaic\\artificial intelligence\\ai_projects\\tensorflow object detection\\tfodcourse\\tfod\\lib\\site-packages (from google-auth<3,>=1.6.3->tensorboard<2.9,>=2.8->tensorflow<3,>=2.1.0->tensorflowjs) (4.8)\n",
      "Requirement already satisfied: cachetools<6.0,>=2.0.0 in d:\\haris_study\\piaic\\artificial intelligence\\ai_projects\\tensorflow object detection\\tfodcourse\\tfod\\lib\\site-packages (from google-auth<3,>=1.6.3->tensorboard<2.9,>=2.8->tensorflow<3,>=2.1.0->tensorflowjs) (5.0.0)\n",
      "Requirement already satisfied: requests-oauthlib>=0.7.0 in d:\\haris_study\\piaic\\artificial intelligence\\ai_projects\\tensorflow object detection\\tfodcourse\\tfod\\lib\\site-packages (from google-auth-oauthlib<0.5,>=0.4.1->tensorboard<2.9,>=2.8->tensorflow<3,>=2.1.0->tensorflowjs) (1.3.1)\n",
      "Requirement already satisfied: importlib-metadata>=4.4 in d:\\haris_study\\piaic\\artificial intelligence\\ai_projects\\tensorflow object detection\\tfodcourse\\tfod\\lib\\site-packages (from markdown>=2.6.8->tensorboard<2.9,>=2.8->tensorflow<3,>=2.1.0->tensorflowjs) (4.11.3)\n",
      "Requirement already satisfied: certifi>=2017.4.17 in d:\\haris_study\\piaic\\artificial intelligence\\ai_projects\\tensorflow object detection\\tfodcourse\\tfod\\lib\\site-packages (from requests<3,>=2.21.0->tensorboard<2.9,>=2.8->tensorflow<3,>=2.1.0->tensorflowjs) (2021.10.8)\n",
      "Requirement already satisfied: urllib3<1.27,>=1.21.1 in d:\\haris_study\\piaic\\artificial intelligence\\ai_projects\\tensorflow object detection\\tfodcourse\\tfod\\lib\\site-packages (from requests<3,>=2.21.0->tensorboard<2.9,>=2.8->tensorflow<3,>=2.1.0->tensorflowjs) (1.26.9)\n",
      "Requirement already satisfied: idna<4,>=2.5 in d:\\haris_study\\piaic\\artificial intelligence\\ai_projects\\tensorflow object detection\\tfodcourse\\tfod\\lib\\site-packages (from requests<3,>=2.21.0->tensorboard<2.9,>=2.8->tensorflow<3,>=2.1.0->tensorflowjs) (3.3)\n",
      "Requirement already satisfied: charset-normalizer~=2.0.0 in d:\\haris_study\\piaic\\artificial intelligence\\ai_projects\\tensorflow object detection\\tfodcourse\\tfod\\lib\\site-packages (from requests<3,>=2.21.0->tensorboard<2.9,>=2.8->tensorflow<3,>=2.1.0->tensorflowjs) (2.0.12)\n",
      "Requirement already satisfied: zipp>=0.5 in d:\\haris_study\\piaic\\artificial intelligence\\ai_projects\\tensorflow object detection\\tfodcourse\\tfod\\lib\\site-packages (from importlib-metadata>=4.4->markdown>=2.6.8->tensorboard<2.9,>=2.8->tensorflow<3,>=2.1.0->tensorflowjs) (3.8.0)\n",
      "Requirement already satisfied: pyasn1<0.5.0,>=0.4.6 in d:\\haris_study\\piaic\\artificial intelligence\\ai_projects\\tensorflow object detection\\tfodcourse\\tfod\\lib\\site-packages (from pyasn1-modules>=0.2.1->google-auth<3,>=1.6.3->tensorboard<2.9,>=2.8->tensorflow<3,>=2.1.0->tensorflowjs) (0.4.8)\n",
      "Requirement already satisfied: oauthlib>=3.0.0 in d:\\haris_study\\piaic\\artificial intelligence\\ai_projects\\tensorflow object detection\\tfodcourse\\tfod\\lib\\site-packages (from requests-oauthlib>=0.7.0->google-auth-oauthlib<0.5,>=0.4.1->tensorboard<2.9,>=2.8->tensorflow<3,>=2.1.0->tensorflowjs) (3.2.0)\n",
      "Installing collected packages: tensorflow-hub, tensorflowjs\n",
      "Successfully installed tensorflow-hub-0.12.0 tensorflowjs-3.15.0\n"
     ]
    }
   ],
   "source": [
    "!pip install tensorflowjs"
   ]
  },
  {
   "cell_type": "code",
   "execution_count": 48,
   "metadata": {
    "id": "0oxbVynHpfDK",
    "scrolled": true
   },
   "outputs": [],
   "source": [
    "command = \"tensorflowjs_converter --input_format=tf_saved_model --output_node_names='detection_boxes,detection_classes,detection_features,detection_multiclass_scores,detection_scores,num_detections,raw_detection_boxes,raw_detection_scores' --output_format=tfjs_graph_model --signature_name=serving_default {} {}\".format(os.path.join(paths['OUTPUT_PATH'], 'saved_model'), paths['TFJS_PATH'])"
   ]
  },
  {
   "cell_type": "code",
   "execution_count": 49,
   "metadata": {
    "colab": {
     "base_uri": "https://localhost:8080/"
    },
    "id": "DB2AGNmJpfDK",
    "outputId": "fbc9f747-f511-47e8-df8f-5ea65cef0374",
    "scrolled": true
   },
   "outputs": [
    {
     "name": "stdout",
     "output_type": "stream",
     "text": [
      "tensorflowjs_converter --input_format=tf_saved_model --output_node_names='detection_boxes,detection_classes,detection_features,detection_multiclass_scores,detection_scores,num_detections,raw_detection_boxes,raw_detection_scores' --output_format=tfjs_graph_model --signature_name=serving_default Tensorflow\\workspace\\models\\my_ssd_mobnet\\export\\saved_model Tensorflow\\workspace\\models\\my_ssd_mobnet\\tfjsexport\n"
     ]
    }
   ],
   "source": [
    "print(command)"
   ]
  },
  {
   "cell_type": "code",
   "execution_count": 50,
   "metadata": {
    "colab": {
     "base_uri": "https://localhost:8080/"
    },
    "id": "K7rfT4-hpfDK",
    "outputId": "532707fd-6feb-4bc6-84a3-325b5d16303c",
    "scrolled": true
   },
   "outputs": [
    {
     "name": "stdout",
     "output_type": "stream",
     "text": [
      "Writing weight file Tensorflow\\workspace\\models\\my_ssd_mobnet\\tfjsexport\\model.json...\n"
     ]
    },
    {
     "name": "stderr",
     "output_type": "stream",
     "text": [
      "2022-04-20 00:59:12.554949: W tensorflow/stream_executor/platform/default/dso_loader.cc:64] Could not load dynamic library 'cudart64_110.dll'; dlerror: cudart64_110.dll not found\n",
      "2022-04-20 00:59:12.555003: I tensorflow/stream_executor/cuda/cudart_stub.cc:29] Ignore above cudart dlerror if you do not have a GPU set up on your machine.\n",
      "2022-04-20 01:00:00.572597: W tensorflow/stream_executor/platform/default/dso_loader.cc:64] Could not load dynamic library 'nvcuda.dll'; dlerror: nvcuda.dll not found\n",
      "2022-04-20 01:00:00.572642: W tensorflow/stream_executor/cuda/cuda_driver.cc:269] failed call to cuInit: UNKNOWN ERROR (303)\n",
      "2022-04-20 01:00:00.816997: I tensorflow/stream_executor/cuda/cuda_diagnostics.cc:169] retrieving CUDA diagnostic information for host: Haier-PC\n",
      "2022-04-20 01:00:00.817177: I tensorflow/stream_executor/cuda/cuda_diagnostics.cc:176] hostname: Haier-PC\n",
      "2022-04-20 01:00:00.817563: I tensorflow/core/platform/cpu_feature_guard.cc:151] This TensorFlow binary is optimized with oneAPI Deep Neural Network Library (oneDNN) to use the following CPU instructions in performance-critical operations:  AVX AVX2\n",
      "To enable them in other operations, rebuild TensorFlow with the appropriate compiler flags.\n",
      "2022-04-20 01:00:18.828305: I tensorflow/core/grappler/devices.cc:66] Number of eligible GPUs (core count >= 8, compute capability >= 0.0): 0\n",
      "2022-04-20 01:00:18.918046: I tensorflow/core/grappler/clusters/single_machine.cc:358] Starting new session\n",
      "2022-04-20 01:00:20.422377: I tensorflow/core/grappler/optimizers/meta_optimizer.cc:1164] Optimization results for grappler item: graph_to_optimize\n",
      "  function_optimizer: Graph size after: 3843 nodes (3433), 5137 edges (4720), time = 1040.88599ms.\n",
      "  function_optimizer: function_optimizer did nothing. time = 0.005ms.\n",
      "\n",
      "2022-04-20 01:00:30.609139: I tensorflow/core/grappler/optimizers/meta_optimizer.cc:1164] Optimization results for grappler item: graph_to_optimize\n",
      "  model_pruner: Graph size after: 3116 nodes (-441), 4467 edges (-441), time = 103.221ms.\n",
      "  constant_folding: Graph size after: 1535 nodes (-1581), 2637 edges (-1830), time = 387.722ms.\n",
      "  arithmetic_optimizer: Graph size after: 1551 nodes (16), 2647 edges (10), time = 114.357ms.\n",
      "  dependency_optimizer: Graph size after: 1464 nodes (-87), 1660 edges (-987), time = 59.836ms.\n",
      "  model_pruner: Graph size after: 1464 nodes (0), 1660 edges (0), time = 32.565ms.\n",
      "  constant_folding: Graph size after: 1464 nodes (0), 1660 edges (0), time = 115.638ms.\n",
      "  arithmetic_optimizer: Graph size after: 1464 nodes (0), 1660 edges (0), time = 57.764ms.\n",
      "  dependency_optimizer: Graph size after: 1464 nodes (0), 1660 edges (0), time = 38.95ms.\n",
      "  debug_stripper: Graph size after: 1464 nodes (0), 1660 edges (0), time = 10.282ms.\n",
      "  model_pruner: Graph size after: 1462 nodes (-2), 1658 edges (-2), time = 37.733ms.\n",
      "  constant_folding: Graph size after: 1462 nodes (0), 1658 edges (0), time = 93.45ms.\n",
      "  arithmetic_optimizer: Graph size after: 1462 nodes (0), 1658 edges (0), time = 63.18ms.\n",
      "  dependency_optimizer: Graph size after: 1457 nodes (-5), 1648 edges (-10), time = 43.869ms.\n",
      "  model_pruner: Graph size after: 1457 nodes (0), 1648 edges (0), time = 20.495ms.\n",
      "  constant_folding: Graph size after: 1457 nodes (0), 1648 edges (0), time = 79.768ms.\n",
      "  arithmetic_optimizer: Graph size after: 1457 nodes (0), 1648 edges (0), time = 63.777ms.\n",
      "  dependency_optimizer: Graph size after: 1457 nodes (0), 1648 edges (0), time = 29.967ms.\n",
      "  debug_stripper: debug_stripper did nothing. time = 0.105ms.\n",
      "\n",
      "2022-04-20 01:00:53.211439: I tensorflow/core/grappler/optimizers/meta_optimizer.cc:1164] Optimization results for grappler item: graph_to_optimize\n",
      "  remapper: Graph size after: 1421 nodes (-112), 1308 edges (-112), time = 30.635ms.\n",
      "  constant_folding: Graph size after: 1117 nodes (-304), 1308 edges (0), time = 412.699ms.\n",
      "  arithmetic_optimizer: Graph size after: 1117 nodes (0), 1308 edges (0), time = 129.548ms.\n",
      "  dependency_optimizer: Graph size after: 1117 nodes (0), 1308 edges (0), time = 35.303ms.\n",
      "  remapper: Graph size after: 1117 nodes (0), 1308 edges (0), time = 28.977ms.\n",
      "  constant_folding: Graph size after: 1117 nodes (0), 1308 edges (0), time = 113.558ms.\n",
      "  arithmetic_optimizer: Graph size after: 1117 nodes (0), 1308 edges (0), time = 126.524ms.\n",
      "  dependency_optimizer: Graph size after: 1117 nodes (0), 1308 edges (0), time = 53.695ms.\n",
      "\n"
     ]
    }
   ],
   "source": [
    "!{command}"
   ]
  },
  {
   "cell_type": "code",
   "execution_count": null,
   "metadata": {
    "id": "o8_hm-itpfDK",
    "scrolled": true
   },
   "outputs": [],
   "source": [
    "# Test Code: https://github.com/nicknochnack/RealTimeSignLanguageDetectionwithTFJS"
   ]
  },
  {
   "cell_type": "markdown",
   "metadata": {
    "id": "VtUw73FHpfDK"
   },
   "source": [
    "# 12. Conversion to TFLite"
   ]
  },
  {
   "cell_type": "code",
   "execution_count": 51,
   "metadata": {
    "id": "XviMtewLpfDK",
    "scrolled": true
   },
   "outputs": [],
   "source": [
    "TFLITE_SCRIPT = os.path.join(paths['APIMODEL_PATH'], 'research', 'object_detection', 'export_tflite_graph_tf2.py ')"
   ]
  },
  {
   "cell_type": "code",
   "execution_count": 52,
   "metadata": {
    "id": "us86cjC4pfDL",
    "scrolled": true
   },
   "outputs": [],
   "source": [
    "command = \"python {} --pipeline_config_path={} --trained_checkpoint_dir={} --output_directory={}\".format(TFLITE_SCRIPT ,files['PIPELINE_CONFIG'], paths['CHECKPOINT_PATH'], paths['TFLITE_PATH'])"
   ]
  },
  {
   "cell_type": "code",
   "execution_count": 53,
   "metadata": {
    "colab": {
     "base_uri": "https://localhost:8080/"
    },
    "id": "n1r5YO3rpfDL",
    "outputId": "5fcdf7a4-eee2-4365-f1ca-1751968379ea",
    "scrolled": true
   },
   "outputs": [
    {
     "name": "stdout",
     "output_type": "stream",
     "text": [
      "python Tensorflow\\models\\research\\object_detection\\export_tflite_graph_tf2.py  --pipeline_config_path=Tensorflow\\workspace\\models\\my_ssd_mobnet\\pipeline.config --trained_checkpoint_dir=Tensorflow\\workspace\\models\\my_ssd_mobnet --output_directory=Tensorflow\\workspace\\models\\my_ssd_mobnet\\tfliteexport\n"
     ]
    }
   ],
   "source": [
    "print(command)"
   ]
  },
  {
   "cell_type": "code",
   "execution_count": 54,
   "metadata": {
    "colab": {
     "base_uri": "https://localhost:8080/"
    },
    "id": "I-xWpHN8pfDL",
    "outputId": "7f6bacd8-d077-43b5-c131-5b081fba24a4",
    "scrolled": true
   },
   "outputs": [
    {
     "name": "stderr",
     "output_type": "stream",
     "text": [
      "2022-04-20 01:07:05.521207: W tensorflow/stream_executor/platform/default/dso_loader.cc:64] Could not load dynamic library 'cudart64_110.dll'; dlerror: cudart64_110.dll not found\n",
      "2022-04-20 01:07:05.521267: I tensorflow/stream_executor/cuda/cudart_stub.cc:29] Ignore above cudart dlerror if you do not have a GPU set up on your machine.\n",
      "2022-04-20 01:07:20.708381: W tensorflow/stream_executor/platform/default/dso_loader.cc:64] Could not load dynamic library 'nvcuda.dll'; dlerror: nvcuda.dll not found\n",
      "2022-04-20 01:07:20.708444: W tensorflow/stream_executor/cuda/cuda_driver.cc:269] failed call to cuInit: UNKNOWN ERROR (303)\n",
      "2022-04-20 01:07:20.713932: I tensorflow/stream_executor/cuda/cuda_diagnostics.cc:169] retrieving CUDA diagnostic information for host: Haier-PC\n",
      "2022-04-20 01:07:20.714111: I tensorflow/stream_executor/cuda/cuda_diagnostics.cc:176] hostname: Haier-PC\n",
      "2022-04-20 01:07:20.770060: I tensorflow/core/platform/cpu_feature_guard.cc:151] This TensorFlow binary is optimized with oneAPI Deep Neural Network Library (oneDNN) to use the following CPU instructions in performance-critical operations:  AVX AVX2\n",
      "To enable them in other operations, rebuild TensorFlow with the appropriate compiler flags.\n",
      "2022-04-20 01:07:49.809168: W tensorflow/python/util/util.cc:368] Sets are not currently considered sequences, but this may change in the future, so consider avoiding using them.\n",
      "WARNING:tensorflow:Skipping full serialization of Keras layer <object_detection.meta_architectures.ssd_meta_arch.SSDMetaArch object at 0x0000019D619744C8>, because it is not built.\n",
      "W0420 01:07:55.109169 23588 save_impl.py:72] Skipping full serialization of Keras layer <object_detection.meta_architectures.ssd_meta_arch.SSDMetaArch object at 0x0000019D619744C8>, because it is not built.\n",
      "WARNING:tensorflow:Skipping full serialization of Keras layer <keras.layers.convolutional.SeparableConv2D object at 0x0000019D647C5208>, because it is not built.\n",
      "W0420 01:07:55.707172 23588 save_impl.py:72] Skipping full serialization of Keras layer <keras.layers.convolutional.SeparableConv2D object at 0x0000019D647C5208>, because it is not built.\n",
      "WARNING:tensorflow:Skipping full serialization of Keras layer <object_detection.core.freezable_batch_norm.FreezableBatchNorm object at 0x0000019D647CD048>, because it is not built.\n",
      "W0420 01:07:55.707172 23588 save_impl.py:72] Skipping full serialization of Keras layer <object_detection.core.freezable_batch_norm.FreezableBatchNorm object at 0x0000019D647CD048>, because it is not built.\n",
      "WARNING:tensorflow:Skipping full serialization of Keras layer <keras.layers.core.lambda_layer.Lambda object at 0x0000019D647CD948>, because it is not built.\n",
      "W0420 01:07:55.707172 23588 save_impl.py:72] Skipping full serialization of Keras layer <keras.layers.core.lambda_layer.Lambda object at 0x0000019D647CD948>, because it is not built.\n",
      "WARNING:tensorflow:Skipping full serialization of Keras layer <keras.layers.convolutional.SeparableConv2D object at 0x0000019D647CDE88>, because it is not built.\n",
      "W0420 01:07:55.707172 23588 save_impl.py:72] Skipping full serialization of Keras layer <keras.layers.convolutional.SeparableConv2D object at 0x0000019D647CDE88>, because it is not built.\n",
      "WARNING:tensorflow:Skipping full serialization of Keras layer <object_detection.core.freezable_batch_norm.FreezableBatchNorm object at 0x0000019D647D5248>, because it is not built.\n",
      "W0420 01:07:55.707172 23588 save_impl.py:72] Skipping full serialization of Keras layer <object_detection.core.freezable_batch_norm.FreezableBatchNorm object at 0x0000019D647D5248>, because it is not built.\n",
      "WARNING:tensorflow:Skipping full serialization of Keras layer <keras.layers.core.lambda_layer.Lambda object at 0x0000019D647D5AC8>, because it is not built.\n",
      "W0420 01:07:55.708172 23588 save_impl.py:72] Skipping full serialization of Keras layer <keras.layers.core.lambda_layer.Lambda object at 0x0000019D647D5AC8>, because it is not built.\n",
      "WARNING:tensorflow:Skipping full serialization of Keras layer <keras.layers.convolutional.SeparableConv2D object at 0x0000019D62634108>, because it is not built.\n",
      "W0420 01:07:55.708172 23588 save_impl.py:72] Skipping full serialization of Keras layer <keras.layers.convolutional.SeparableConv2D object at 0x0000019D62634108>, because it is not built.\n",
      "WARNING:tensorflow:Skipping full serialization of Keras layer <object_detection.core.freezable_batch_norm.FreezableBatchNorm object at 0x0000019D62634DC8>, because it is not built.\n",
      "W0420 01:07:55.708172 23588 save_impl.py:72] Skipping full serialization of Keras layer <object_detection.core.freezable_batch_norm.FreezableBatchNorm object at 0x0000019D62634DC8>, because it is not built.\n",
      "WARNING:tensorflow:Skipping full serialization of Keras layer <keras.layers.core.lambda_layer.Lambda object at 0x0000019D62624048>, because it is not built.\n",
      "W0420 01:07:55.708172 23588 save_impl.py:72] Skipping full serialization of Keras layer <keras.layers.core.lambda_layer.Lambda object at 0x0000019D62624048>, because it is not built.\n",
      "WARNING:tensorflow:Skipping full serialization of Keras layer <keras.layers.convolutional.SeparableConv2D object at 0x0000019D62624C88>, because it is not built.\n",
      "W0420 01:07:55.708172 23588 save_impl.py:72] Skipping full serialization of Keras layer <keras.layers.convolutional.SeparableConv2D object at 0x0000019D62624C88>, because it is not built.\n",
      "WARNING:tensorflow:Skipping full serialization of Keras layer <object_detection.core.freezable_batch_norm.FreezableBatchNorm object at 0x0000019D6264F748>, because it is not built.\n",
      "W0420 01:07:55.708172 23588 save_impl.py:72] Skipping full serialization of Keras layer <object_detection.core.freezable_batch_norm.FreezableBatchNorm object at 0x0000019D6264F748>, because it is not built.\n",
      "WARNING:tensorflow:Skipping full serialization of Keras layer <keras.layers.core.lambda_layer.Lambda object at 0x0000019D6264F4C8>, because it is not built.\n",
      "W0420 01:07:55.708172 23588 save_impl.py:72] Skipping full serialization of Keras layer <keras.layers.core.lambda_layer.Lambda object at 0x0000019D6264F4C8>, because it is not built.\n",
      "WARNING:tensorflow:Skipping full serialization of Keras layer <object_detection.core.freezable_batch_norm.FreezableBatchNorm object at 0x0000019D62514608>, because it is not built.\n",
      "W0420 01:07:55.709172 23588 save_impl.py:72] Skipping full serialization of Keras layer <object_detection.core.freezable_batch_norm.FreezableBatchNorm object at 0x0000019D62514608>, because it is not built.\n",
      "WARNING:tensorflow:Skipping full serialization of Keras layer <keras.layers.core.lambda_layer.Lambda object at 0x0000019D625ECB88>, because it is not built.\n",
      "W0420 01:07:55.709172 23588 save_impl.py:72] Skipping full serialization of Keras layer <keras.layers.core.lambda_layer.Lambda object at 0x0000019D625ECB88>, because it is not built.\n",
      "WARNING:tensorflow:Skipping full serialization of Keras layer <object_detection.core.freezable_batch_norm.FreezableBatchNorm object at 0x0000019D625ECE48>, because it is not built.\n",
      "W0420 01:07:55.709172 23588 save_impl.py:72] Skipping full serialization of Keras layer <object_detection.core.freezable_batch_norm.FreezableBatchNorm object at 0x0000019D625ECE48>, because it is not built.\n",
      "WARNING:tensorflow:Skipping full serialization of Keras layer <keras.layers.core.lambda_layer.Lambda object at 0x0000019D625D3708>, because it is not built.\n",
      "W0420 01:07:55.709172 23588 save_impl.py:72] Skipping full serialization of Keras layer <keras.layers.core.lambda_layer.Lambda object at 0x0000019D625D3708>, because it is not built.\n",
      "WARNING:tensorflow:Skipping full serialization of Keras layer <object_detection.core.freezable_batch_norm.FreezableBatchNorm object at 0x0000019D625D3AC8>, because it is not built.\n",
      "W0420 01:07:55.709172 23588 save_impl.py:72] Skipping full serialization of Keras layer <object_detection.core.freezable_batch_norm.FreezableBatchNorm object at 0x0000019D625D3AC8>, because it is not built.\n",
      "WARNING:tensorflow:Skipping full serialization of Keras layer <keras.layers.core.lambda_layer.Lambda object at 0x0000019D625D3048>, because it is not built.\n",
      "W0420 01:07:55.709172 23588 save_impl.py:72] Skipping full serialization of Keras layer <keras.layers.core.lambda_layer.Lambda object at 0x0000019D625D3048>, because it is not built.\n",
      "WARNING:tensorflow:Skipping full serialization of Keras layer <object_detection.core.freezable_batch_norm.FreezableBatchNorm object at 0x0000019D625D22C8>, because it is not built.\n",
      "W0420 01:07:55.709172 23588 save_impl.py:72] Skipping full serialization of Keras layer <object_detection.core.freezable_batch_norm.FreezableBatchNorm object at 0x0000019D625D22C8>, because it is not built.\n",
      "WARNING:tensorflow:Skipping full serialization of Keras layer <keras.layers.core.lambda_layer.Lambda object at 0x0000019D625D2188>, because it is not built.\n",
      "W0420 01:07:55.709172 23588 save_impl.py:72] Skipping full serialization of Keras layer <keras.layers.core.lambda_layer.Lambda object at 0x0000019D625D2188>, because it is not built.\n",
      "WARNING:tensorflow:Skipping full serialization of Keras layer <object_detection.core.freezable_batch_norm.FreezableBatchNorm object at 0x0000019D625FC1C8>, because it is not built.\n",
      "W0420 01:07:55.710171 23588 save_impl.py:72] Skipping full serialization of Keras layer <object_detection.core.freezable_batch_norm.FreezableBatchNorm object at 0x0000019D625FC1C8>, because it is not built.\n",
      "WARNING:tensorflow:Skipping full serialization of Keras layer <keras.layers.core.lambda_layer.Lambda object at 0x0000019D647EC148>, because it is not built.\n",
      "W0420 01:07:55.710171 23588 save_impl.py:72] Skipping full serialization of Keras layer <keras.layers.core.lambda_layer.Lambda object at 0x0000019D647EC148>, because it is not built.\n",
      "WARNING:tensorflow:Skipping full serialization of Keras layer <object_detection.core.freezable_batch_norm.FreezableBatchNorm object at 0x0000019D647ECFC8>, because it is not built.\n",
      "W0420 01:07:55.710171 23588 save_impl.py:72] Skipping full serialization of Keras layer <object_detection.core.freezable_batch_norm.FreezableBatchNorm object at 0x0000019D647ECFC8>, because it is not built.\n",
      "WARNING:tensorflow:Skipping full serialization of Keras layer <keras.layers.core.lambda_layer.Lambda object at 0x0000019D647EC588>, because it is not built.\n",
      "W0420 01:07:55.710171 23588 save_impl.py:72] Skipping full serialization of Keras layer <keras.layers.core.lambda_layer.Lambda object at 0x0000019D647EC588>, because it is not built.\n",
      "WARNING:tensorflow:Skipping full serialization of Keras layer <object_detection.core.freezable_batch_norm.FreezableBatchNorm object at 0x0000019D62609D08>, because it is not built.\n",
      "W0420 01:07:55.710171 23588 save_impl.py:72] Skipping full serialization of Keras layer <object_detection.core.freezable_batch_norm.FreezableBatchNorm object at 0x0000019D62609D08>, because it is not built.\n",
      "WARNING:tensorflow:Skipping full serialization of Keras layer <keras.layers.core.lambda_layer.Lambda object at 0x0000019D62609F08>, because it is not built.\n",
      "W0420 01:07:55.710171 23588 save_impl.py:72] Skipping full serialization of Keras layer <keras.layers.core.lambda_layer.Lambda object at 0x0000019D62609F08>, because it is not built.\n",
      "WARNING:tensorflow:Skipping full serialization of Keras layer <object_detection.core.freezable_batch_norm.FreezableBatchNorm object at 0x0000019D626098C8>, because it is not built.\n",
      "W0420 01:07:55.710171 23588 save_impl.py:72] Skipping full serialization of Keras layer <object_detection.core.freezable_batch_norm.FreezableBatchNorm object at 0x0000019D626098C8>, because it is not built.\n",
      "WARNING:tensorflow:Skipping full serialization of Keras layer <keras.layers.core.lambda_layer.Lambda object at 0x0000019D625E1D88>, because it is not built.\n",
      "W0420 01:07:55.710171 23588 save_impl.py:72] Skipping full serialization of Keras layer <keras.layers.core.lambda_layer.Lambda object at 0x0000019D625E1D88>, because it is not built.\n",
      "WARNING:tensorflow:Skipping full serialization of Keras layer <object_detection.core.freezable_batch_norm.FreezableBatchNorm object at 0x0000019D64847748>, because it is not built.\n",
      "W0420 01:07:55.711171 23588 save_impl.py:72] Skipping full serialization of Keras layer <object_detection.core.freezable_batch_norm.FreezableBatchNorm object at 0x0000019D64847748>, because it is not built.\n",
      "WARNING:tensorflow:Skipping full serialization of Keras layer <keras.layers.core.lambda_layer.Lambda object at 0x0000019D647DFC48>, because it is not built.\n",
      "W0420 01:07:55.711171 23588 save_impl.py:72] Skipping full serialization of Keras layer <keras.layers.core.lambda_layer.Lambda object at 0x0000019D647DFC48>, because it is not built.\n",
      "WARNING:tensorflow:Skipping full serialization of Keras layer <object_detection.core.freezable_batch_norm.FreezableBatchNorm object at 0x0000019D647DF408>, because it is not built.\n",
      "W0420 01:07:55.711171 23588 save_impl.py:72] Skipping full serialization of Keras layer <object_detection.core.freezable_batch_norm.FreezableBatchNorm object at 0x0000019D647DF408>, because it is not built.\n",
      "WARNING:tensorflow:Skipping full serialization of Keras layer <keras.layers.core.lambda_layer.Lambda object at 0x0000019D647DF608>, because it is not built.\n",
      "W0420 01:07:55.711171 23588 save_impl.py:72] Skipping full serialization of Keras layer <keras.layers.core.lambda_layer.Lambda object at 0x0000019D647DF608>, because it is not built.\n",
      "WARNING:tensorflow:Skipping full serialization of Keras layer <object_detection.core.freezable_batch_norm.FreezableBatchNorm object at 0x0000019D624B3148>, because it is not built.\n",
      "W0420 01:07:55.711171 23588 save_impl.py:72] Skipping full serialization of Keras layer <object_detection.core.freezable_batch_norm.FreezableBatchNorm object at 0x0000019D624B3148>, because it is not built.\n",
      "WARNING:tensorflow:Skipping full serialization of Keras layer <keras.layers.core.lambda_layer.Lambda object at 0x0000019D6224B208>, because it is not built.\n",
      "W0420 01:07:55.711171 23588 save_impl.py:72] Skipping full serialization of Keras layer <keras.layers.core.lambda_layer.Lambda object at 0x0000019D6224B208>, because it is not built.\n",
      "WARNING:tensorflow:Skipping full serialization of Keras layer <object_detection.core.freezable_batch_norm.FreezableBatchNorm object at 0x0000019D61D9DA48>, because it is not built.\n",
      "W0420 01:07:55.718188 23588 save_impl.py:72] Skipping full serialization of Keras layer <object_detection.core.freezable_batch_norm.FreezableBatchNorm object at 0x0000019D61D9DA48>, because it is not built.\n",
      "WARNING:tensorflow:Skipping full serialization of Keras layer <keras.layers.core.lambda_layer.Lambda object at 0x0000019D6488F548>, because it is not built.\n",
      "W0420 01:07:55.719172 23588 save_impl.py:72] Skipping full serialization of Keras layer <keras.layers.core.lambda_layer.Lambda object at 0x0000019D6488F548>, because it is not built.\n",
      "WARNING:tensorflow:Skipping full serialization of Keras layer <object_detection.core.freezable_batch_norm.FreezableBatchNorm object at 0x0000019D64847AC8>, because it is not built.\n",
      "W0420 01:07:55.719172 23588 save_impl.py:72] Skipping full serialization of Keras layer <object_detection.core.freezable_batch_norm.FreezableBatchNorm object at 0x0000019D64847AC8>, because it is not built.\n",
      "WARNING:tensorflow:Skipping full serialization of Keras layer <keras.layers.core.lambda_layer.Lambda object at 0x0000019D648B5AC8>, because it is not built.\n",
      "W0420 01:07:55.720172 23588 save_impl.py:72] Skipping full serialization of Keras layer <keras.layers.core.lambda_layer.Lambda object at 0x0000019D648B5AC8>, because it is not built.\n",
      "WARNING:tensorflow:Skipping full serialization of Keras layer <object_detection.core.freezable_batch_norm.FreezableBatchNorm object at 0x0000019D624A9B08>, because it is not built.\n",
      "W0420 01:07:55.720172 23588 save_impl.py:72] Skipping full serialization of Keras layer <object_detection.core.freezable_batch_norm.FreezableBatchNorm object at 0x0000019D624A9B08>, because it is not built.\n",
      "WARNING:tensorflow:Skipping full serialization of Keras layer <keras.layers.core.lambda_layer.Lambda object at 0x0000019D648B1208>, because it is not built.\n",
      "W0420 01:07:55.720172 23588 save_impl.py:72] Skipping full serialization of Keras layer <keras.layers.core.lambda_layer.Lambda object at 0x0000019D648B1208>, because it is not built.\n",
      "WARNING:tensorflow:Skipping full serialization of Keras layer <object_detection.core.freezable_batch_norm.FreezableBatchNorm object at 0x0000019D648B1308>, because it is not built.\n",
      "W0420 01:07:55.720172 23588 save_impl.py:72] Skipping full serialization of Keras layer <object_detection.core.freezable_batch_norm.FreezableBatchNorm object at 0x0000019D648B1308>, because it is not built.\n",
      "WARNING:tensorflow:Skipping full serialization of Keras layer <keras.layers.core.lambda_layer.Lambda object at 0x0000019D648B1A88>, because it is not built.\n",
      "W0420 01:07:55.721168 23588 save_impl.py:72] Skipping full serialization of Keras layer <keras.layers.core.lambda_layer.Lambda object at 0x0000019D648B1A88>, because it is not built.\n",
      "WARNING:tensorflow:Skipping full serialization of Keras layer <object_detection.core.freezable_batch_norm.FreezableBatchNorm object at 0x0000019D648AA6C8>, because it is not built.\n",
      "W0420 01:07:55.721168 23588 save_impl.py:72] Skipping full serialization of Keras layer <object_detection.core.freezable_batch_norm.FreezableBatchNorm object at 0x0000019D648AA6C8>, because it is not built.\n",
      "WARNING:tensorflow:Skipping full serialization of Keras layer <keras.layers.core.lambda_layer.Lambda object at 0x0000019D648AA8C8>, because it is not built.\n",
      "W0420 01:07:55.721168 23588 save_impl.py:72] Skipping full serialization of Keras layer <keras.layers.core.lambda_layer.Lambda object at 0x0000019D648AA8C8>, because it is not built.\n",
      "W0420 01:08:40.976231 23588 save.py:265] Found untraced functions such as WeightSharedConvolutionalBoxPredictor_layer_call_fn, WeightSharedConvolutionalBoxPredictor_layer_call_and_return_conditional_losses, WeightSharedConvolutionalBoxHead_layer_call_fn, WeightSharedConvolutionalBoxHead_layer_call_and_return_conditional_losses, WeightSharedConvolutionalClassHead_layer_call_fn while saving (showing 5 of 104). These functions will not be directly callable after loading.\n",
      "INFO:tensorflow:Assets written to: Tensorflow\\workspace\\models\\my_ssd_mobnet\\tfliteexport\\saved_model\\assets\n",
      "I0420 01:08:56.513974 23588 builder_impl.py:780] Assets written to: Tensorflow\\workspace\\models\\my_ssd_mobnet\\tfliteexport\\saved_model\\assets\n"
     ]
    }
   ],
   "source": [
    "!{command}"
   ]
  },
  {
   "cell_type": "code",
   "execution_count": 55,
   "metadata": {
    "id": "iJfYMbN6pfDL",
    "scrolled": true
   },
   "outputs": [],
   "source": [
    "FROZEN_TFLITE_PATH = os.path.join(paths['TFLITE_PATH'], 'saved_model')\n",
    "TFLITE_MODEL = os.path.join(paths['TFLITE_PATH'], 'saved_model', 'detect.tflite')"
   ]
  },
  {
   "cell_type": "code",
   "execution_count": 56,
   "metadata": {
    "scrolled": true
   },
   "outputs": [],
   "source": [
    "command = \"tflite_convert \\\n",
    "--saved_model_dir={} \\\n",
    "--output_file={} \\\n",
    "--input_shapes=1,300,300,3 \\\n",
    "--input_arrays=normalized_input_image_tensor \\\n",
    "--output_arrays='TFLite_Detection_PostProcess','TFLite_Detection_PostProcess:1','TFLite_Detection_PostProcess:2','TFLite_Detection_PostProcess:3' \\\n",
    "--inference_type=FLOAT \\\n",
    "--allow_custom_ops\".format(FROZEN_TFLITE_PATH, TFLITE_MODEL, )"
   ]
  },
  {
   "cell_type": "code",
   "execution_count": 57,
   "metadata": {
    "colab": {
     "base_uri": "https://localhost:8080/"
    },
    "id": "E8GwUeoFpfDL",
    "outputId": "fac43ea4-cc85-471b-a362-e994b06fd583",
    "scrolled": true
   },
   "outputs": [
    {
     "name": "stdout",
     "output_type": "stream",
     "text": [
      "tflite_convert --saved_model_dir=Tensorflow\\workspace\\models\\my_ssd_mobnet\\tfliteexport\\saved_model --output_file=Tensorflow\\workspace\\models\\my_ssd_mobnet\\tfliteexport\\saved_model\\detect.tflite --input_shapes=1,300,300,3 --input_arrays=normalized_input_image_tensor --output_arrays='TFLite_Detection_PostProcess','TFLite_Detection_PostProcess:1','TFLite_Detection_PostProcess:2','TFLite_Detection_PostProcess:3' --inference_type=FLOAT --allow_custom_ops\n"
     ]
    }
   ],
   "source": [
    "print(command)"
   ]
  },
  {
   "cell_type": "code",
   "execution_count": 58,
   "metadata": {
    "colab": {
     "base_uri": "https://localhost:8080/"
    },
    "id": "Nbd7gqHMpfDL",
    "outputId": "7c8fe6d5-2415-4641-8548-39d425c202f7",
    "scrolled": true
   },
   "outputs": [
    {
     "name": "stdout",
     "output_type": "stream",
     "text": [
      "Estimated count of arithmetic ops: 1.710 G  ops, equivalently 0.855 G  MACs\n"
     ]
    },
    {
     "name": "stderr",
     "output_type": "stream",
     "text": [
      "2022-04-20 01:13:32.270144: W tensorflow/stream_executor/platform/default/dso_loader.cc:64] Could not load dynamic library 'cudart64_110.dll'; dlerror: cudart64_110.dll not found\n",
      "2022-04-20 01:13:32.270202: I tensorflow/stream_executor/cuda/cudart_stub.cc:29] Ignore above cudart dlerror if you do not have a GPU set up on your machine.\n",
      "2022-04-20 01:13:41.012525: W tensorflow/stream_executor/platform/default/dso_loader.cc:64] Could not load dynamic library 'nvcuda.dll'; dlerror: nvcuda.dll not found\n",
      "2022-04-20 01:13:41.012741: W tensorflow/stream_executor/cuda/cuda_driver.cc:269] failed call to cuInit: UNKNOWN ERROR (303)\n",
      "2022-04-20 01:13:41.020981: I tensorflow/stream_executor/cuda/cuda_diagnostics.cc:169] retrieving CUDA diagnostic information for host: Haier-PC\n",
      "2022-04-20 01:13:41.021161: I tensorflow/stream_executor/cuda/cuda_diagnostics.cc:176] hostname: Haier-PC\n",
      "2022-04-20 01:13:41.921201: I tensorflow/core/platform/cpu_feature_guard.cc:151] This TensorFlow binary is optimized with oneAPI Deep Neural Network Library (oneDNN) to use the following CPU instructions in performance-critical operations:  AVX AVX2\n",
      "To enable them in other operations, rebuild TensorFlow with the appropriate compiler flags.\n",
      "2022-04-20 01:14:11.567752: W tensorflow/compiler/mlir/lite/python/tf_tfl_flatbuffer_helpers.cc:357] Ignored output_format.\n",
      "2022-04-20 01:14:11.567871: W tensorflow/compiler/mlir/lite/python/tf_tfl_flatbuffer_helpers.cc:360] Ignored drop_control_dependency.\n",
      "2022-04-20 01:14:11.629224: I tensorflow/cc/saved_model/reader.cc:43] Reading SavedModel from: Tensorflow\\workspace\\models\\my_ssd_mobnet\\tfliteexport\\saved_model\n",
      "2022-04-20 01:14:12.004008: I tensorflow/cc/saved_model/reader.cc:78] Reading meta graph with tags { serve }\n",
      "2022-04-20 01:14:12.005536: I tensorflow/cc/saved_model/reader.cc:119] Reading SavedModel debug info (if present) from: Tensorflow\\workspace\\models\\my_ssd_mobnet\\tfliteexport\\saved_model\n",
      "2022-04-20 01:14:12.795609: I tensorflow/cc/saved_model/loader.cc:228] Restoring SavedModel bundle.\n",
      "2022-04-20 01:14:15.425946: I tensorflow/cc/saved_model/loader.cc:212] Running initialization op on SavedModel bundle at path: Tensorflow\\workspace\\models\\my_ssd_mobnet\\tfliteexport\\saved_model\n",
      "2022-04-20 01:14:16.596457: I tensorflow/cc/saved_model/loader.cc:301] SavedModel load for tags { serve }; Status: success: OK. Took 4967256 microseconds.\n",
      "2022-04-20 01:14:18.977141: I tensorflow/compiler/mlir/tensorflow/utils/dump_mlir_util.cc:237] disabling MLIR crash reproducer, set env var `MLIR_CRASH_REPRODUCER_DIRECTORY` to enable.\n",
      "2022-04-20 01:14:22.827595: I tensorflow/compiler/mlir/lite/flatbuffer_export.cc:1963] Estimated count of arithmetic ops: 1.710 G  ops, equivalently 0.855 G  MACs\n",
      "\n",
      "W0420 01:14:23.365103 21624 lite.py:770] Buffer deduplication procedure will be skipped when flatbuffer library is not properly loaded\n"
     ]
    }
   ],
   "source": [
    "!{command}"
   ]
  },
  {
   "cell_type": "markdown",
   "metadata": {
    "id": "5NQqZRdA21Uc"
   },
   "source": [
    "# 13. Zip and Export Models "
   ]
  },
  {
   "cell_type": "code",
   "execution_count": 59,
   "metadata": {
    "id": "tTVTGCQp2ZJJ",
    "scrolled": true
   },
   "outputs": [],
   "source": [
    "!tar -czf models.tar.gz {paths['CHECKPOINT_PATH']}"
   ]
  },
  {
   "cell_type": "code",
   "execution_count": null,
   "metadata": {
    "colab": {
     "base_uri": "https://localhost:8080/"
    },
    "id": "whShhB0x3PYJ",
    "outputId": "b773201d-35c9-46a8-b893-4a76bd4d5d97",
    "scrolled": true
   },
   "outputs": [],
   "source": [
    "from google.colab import drive\n",
    "drive.mount('/content/drive')"
   ]
  }
 ],
 "metadata": {
  "accelerator": "GPU",
  "colab": {
   "name": "3. Training and Detection.ipynb",
   "provenance": []
  },
  "kernelspec": {
   "display_name": "tfod",
   "language": "python",
   "name": "tfod"
  },
  "language_info": {
   "codemirror_mode": {
    "name": "ipython",
    "version": 3
   },
   "file_extension": ".py",
   "mimetype": "text/x-python",
   "name": "python",
   "nbconvert_exporter": "python",
   "pygments_lexer": "ipython3",
   "version": "3.7.9"
  }
 },
 "nbformat": 4,
 "nbformat_minor": 1
}
